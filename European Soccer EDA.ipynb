{
 "cells": [
  {
   "cell_type": "markdown",
   "metadata": {},
   "source": [
    "# Project: Investigate a Dataset - European Soccer (2008-2016)\n",
    "\n",
    "## Table of Contents\n",
    "<ul>\n",
    "<li><a href=\"#intro\">Introduction</a></li>\n",
    "<li><a href=\"#wrangling\">Data Wrangling</a></li>\n",
    "<li><a href=\"#eda\">Exploratory Data Analysis</a></li>\n",
    "<li><a href=\"#limitations\">Limitations</a></li>\n",
    "<li><a href=\"#conclusions\">Conclusions</a></li>\n",
    "</ul>"
   ]
  },
  {
   "cell_type": "markdown",
   "metadata": {},
   "source": [
    "<a id='intro'></a>\n",
    "## Introduction\n",
    "\n",
    ">This soccer database comes from Kaggle and is well suited for data analysis and machine learning. It contains data for soccer matches,players, and teams from several European countries from 2008 to 2016. This dataset is quite extensive, and we encourage you to read more about it [here](https://www.kaggle.com/datasets/hugomathien/soccer?datasetId=63&sortBy=dateCreated&language=Python=True).\n",
    "\n",
    "### Questions for Analysis\n",
    "\n",
    "> 1. Who were the top 5 best players before 2013?\n",
    "2. What are the attributes of the lowest overall rated player? \n",
    "3. Which league has the highest home goals from 2010 to 2016?\n",
    "4. How are team attributes correlated to one another?\n",
    "5. Which player foot has the highest average freekick accuracyand shot power?"
   ]
  },
  {
   "cell_type": "markdown",
   "metadata": {},
   "source": [
    "# Importing Data\n",
    "\n",
    "Importing the necessary packages required for my analysis. "
   ]
  },
  {
   "cell_type": "code",
   "execution_count": 66,
   "metadata": {},
   "outputs": [],
   "source": [
    "# #importing the required packages\n",
    "\n",
    "import pandas as pd\n",
    "import numpy as np\n",
    "import seaborn as sns\n",
    "import matplotlib.pyplot as plt\n",
    "\n",
    "% matplotlib inline"
   ]
  },
  {
   "cell_type": "markdown",
   "metadata": {},
   "source": [
    "<a id='wrangling'></a>\n",
    "## Data Wrangling\n",
    "\n",
    "> In this section I hav loaded the required csv files from `Database_Soccer` database and checked for required data format and changes that i need to carry out to make the datasets cleand for better performance for my analysis"
   ]
  },
  {
   "cell_type": "markdown",
   "metadata": {},
   "source": [
    "### Loading Data"
   ]
  },
  {
   "cell_type": "code",
   "execution_count": 67,
   "metadata": {},
   "outputs": [],
   "source": [
    "# Loaded data from Database_soccer database \n",
    "\n",
    "df_match = pd.read_csv('Match.csv')\n",
    "df_league = pd.read_csv('League.csv')\n",
    "df_country = pd.read_csv('Country.csv')\n",
    "df_player = pd.read_csv('Player.csv')\n",
    "df_team = pd.read_csv('Team.csv')\n",
    "df_team_att = pd.read_csv('Team_Attributes.csv')\n",
    "df_player_att = pd.read_csv('Player_Attributes.csv')"
   ]
  },
  {
   "cell_type": "markdown",
   "metadata": {},
   "source": [
    "#### Check the info shapes of all dataframes\n",
    "\n",
    "1. Match Dataframe"
   ]
  },
  {
   "cell_type": "code",
   "execution_count": 68,
   "metadata": {},
   "outputs": [
    {
     "data": {
      "text/html": [
       "<div>\n",
       "<style scoped>\n",
       "    .dataframe tbody tr th:only-of-type {\n",
       "        vertical-align: middle;\n",
       "    }\n",
       "\n",
       "    .dataframe tbody tr th {\n",
       "        vertical-align: top;\n",
       "    }\n",
       "\n",
       "    .dataframe thead th {\n",
       "        text-align: right;\n",
       "    }\n",
       "</style>\n",
       "<table border=\"1\" class=\"dataframe\">\n",
       "  <thead>\n",
       "    <tr style=\"text-align: right;\">\n",
       "      <th></th>\n",
       "      <th>id</th>\n",
       "      <th>country_id</th>\n",
       "      <th>league_id</th>\n",
       "      <th>season</th>\n",
       "      <th>stage</th>\n",
       "      <th>date</th>\n",
       "      <th>match_api_id</th>\n",
       "      <th>home_team_api_id</th>\n",
       "      <th>away_team_api_id</th>\n",
       "      <th>home_team_goal</th>\n",
       "      <th>...</th>\n",
       "      <th>SJA</th>\n",
       "      <th>VCH</th>\n",
       "      <th>VCD</th>\n",
       "      <th>VCA</th>\n",
       "      <th>GBH</th>\n",
       "      <th>GBD</th>\n",
       "      <th>GBA</th>\n",
       "      <th>BSH</th>\n",
       "      <th>BSD</th>\n",
       "      <th>BSA</th>\n",
       "    </tr>\n",
       "  </thead>\n",
       "  <tbody>\n",
       "    <tr>\n",
       "      <th>0</th>\n",
       "      <td>1</td>\n",
       "      <td>1</td>\n",
       "      <td>1</td>\n",
       "      <td>2008/2009</td>\n",
       "      <td>1</td>\n",
       "      <td>2008-08-17 00:00:00</td>\n",
       "      <td>492473</td>\n",
       "      <td>9987</td>\n",
       "      <td>9993</td>\n",
       "      <td>1</td>\n",
       "      <td>...</td>\n",
       "      <td>4.0</td>\n",
       "      <td>1.65</td>\n",
       "      <td>3.40</td>\n",
       "      <td>4.50</td>\n",
       "      <td>1.78</td>\n",
       "      <td>3.25</td>\n",
       "      <td>4.00</td>\n",
       "      <td>1.73</td>\n",
       "      <td>3.40</td>\n",
       "      <td>4.2</td>\n",
       "    </tr>\n",
       "    <tr>\n",
       "      <th>1</th>\n",
       "      <td>2</td>\n",
       "      <td>1</td>\n",
       "      <td>1</td>\n",
       "      <td>2008/2009</td>\n",
       "      <td>1</td>\n",
       "      <td>2008-08-16 00:00:00</td>\n",
       "      <td>492474</td>\n",
       "      <td>10000</td>\n",
       "      <td>9994</td>\n",
       "      <td>0</td>\n",
       "      <td>...</td>\n",
       "      <td>3.8</td>\n",
       "      <td>2.00</td>\n",
       "      <td>3.25</td>\n",
       "      <td>3.25</td>\n",
       "      <td>1.85</td>\n",
       "      <td>3.25</td>\n",
       "      <td>3.75</td>\n",
       "      <td>1.91</td>\n",
       "      <td>3.25</td>\n",
       "      <td>3.6</td>\n",
       "    </tr>\n",
       "  </tbody>\n",
       "</table>\n",
       "<p>2 rows × 115 columns</p>\n",
       "</div>"
      ],
      "text/plain": [
       "   id  country_id  league_id     season  stage                 date  \\\n",
       "0   1           1          1  2008/2009      1  2008-08-17 00:00:00   \n",
       "1   2           1          1  2008/2009      1  2008-08-16 00:00:00   \n",
       "\n",
       "   match_api_id  home_team_api_id  away_team_api_id  home_team_goal ...   SJA  \\\n",
       "0        492473              9987              9993               1 ...   4.0   \n",
       "1        492474             10000              9994               0 ...   3.8   \n",
       "\n",
       "    VCH   VCD   VCA   GBH   GBD   GBA   BSH   BSD  BSA  \n",
       "0  1.65  3.40  4.50  1.78  3.25  4.00  1.73  3.40  4.2  \n",
       "1  2.00  3.25  3.25  1.85  3.25  3.75  1.91  3.25  3.6  \n",
       "\n",
       "[2 rows x 115 columns]"
      ]
     },
     "execution_count": 68,
     "metadata": {},
     "output_type": "execute_result"
    }
   ],
   "source": [
    "#view the head of the dataframe\n",
    "df_match.head(2)"
   ]
  },
  {
   "cell_type": "code",
   "execution_count": 69,
   "metadata": {},
   "outputs": [
    {
     "data": {
      "text/plain": [
       "(25979, 115)"
      ]
     },
     "execution_count": 69,
     "metadata": {},
     "output_type": "execute_result"
    }
   ],
   "source": [
    "# shape of the dataframe\n",
    "df_match.shape"
   ]
  },
  {
   "cell_type": "code",
   "execution_count": 70,
   "metadata": {},
   "outputs": [
    {
     "data": {
      "text/plain": [
       "id                      0\n",
       "country_id              0\n",
       "league_id               0\n",
       "season                  0\n",
       "stage                   0\n",
       "date                    0\n",
       "match_api_id            0\n",
       "home_team_api_id        0\n",
       "away_team_api_id        0\n",
       "home_team_goal          0\n",
       "away_team_goal          0\n",
       "home_player_X1       1821\n",
       "home_player_X2       1821\n",
       "home_player_X3       1832\n",
       "home_player_X4       1832\n",
       "home_player_X5       1832\n",
       "home_player_X6       1832\n",
       "home_player_X7       1832\n",
       "home_player_X8       1832\n",
       "home_player_X9       1832\n",
       "home_player_X10      1832\n",
       "home_player_X11      1832\n",
       "away_player_X1       1832\n",
       "away_player_X2       1832\n",
       "away_player_X3       1832\n",
       "away_player_X4       1832\n",
       "away_player_X5       1832\n",
       "away_player_X6       1832\n",
       "away_player_X7       1832\n",
       "away_player_X8       1832\n",
       "                    ...  \n",
       "B365H                3387\n",
       "B365D                3387\n",
       "B365A                3387\n",
       "BWH                  3404\n",
       "BWD                  3404\n",
       "BWA                  3404\n",
       "IWH                  3459\n",
       "IWD                  3459\n",
       "IWA                  3459\n",
       "LBH                  3423\n",
       "LBD                  3423\n",
       "LBA                  3423\n",
       "PSH                 14811\n",
       "PSD                 14811\n",
       "PSA                 14811\n",
       "WHH                  3408\n",
       "WHD                  3408\n",
       "WHA                  3408\n",
       "SJH                  8882\n",
       "SJD                  8882\n",
       "SJA                  8882\n",
       "VCH                  3411\n",
       "VCD                  3411\n",
       "VCA                  3411\n",
       "GBH                 11817\n",
       "GBD                 11817\n",
       "GBA                 11817\n",
       "BSH                 11818\n",
       "BSD                 11818\n",
       "BSA                 11818\n",
       "Length: 115, dtype: int64"
      ]
     },
     "execution_count": 70,
     "metadata": {},
     "output_type": "execute_result"
    }
   ],
   "source": [
    "# Check for null values\n",
    "# checking the info won't display the details required. so we willl use the .isnull() functon\n",
    "df_match.isnull().sum()"
   ]
  },
  {
   "cell_type": "markdown",
   "metadata": {},
   "source": [
    "Null values seems to be much. i will look into it while cleaning the dataset "
   ]
  },
  {
   "cell_type": "code",
   "execution_count": 71,
   "metadata": {},
   "outputs": [
    {
     "data": {
      "text/plain": [
       "0"
      ]
     },
     "execution_count": 71,
     "metadata": {},
     "output_type": "execute_result"
    }
   ],
   "source": [
    "# checking for duplicate rows\n",
    "df_match.duplicated().sum()"
   ]
  },
  {
   "cell_type": "markdown",
   "metadata": {},
   "source": [
    "2. League Dataframe"
   ]
  },
  {
   "cell_type": "code",
   "execution_count": 72,
   "metadata": {},
   "outputs": [
    {
     "data": {
      "text/html": [
       "<div>\n",
       "<style scoped>\n",
       "    .dataframe tbody tr th:only-of-type {\n",
       "        vertical-align: middle;\n",
       "    }\n",
       "\n",
       "    .dataframe tbody tr th {\n",
       "        vertical-align: top;\n",
       "    }\n",
       "\n",
       "    .dataframe thead th {\n",
       "        text-align: right;\n",
       "    }\n",
       "</style>\n",
       "<table border=\"1\" class=\"dataframe\">\n",
       "  <thead>\n",
       "    <tr style=\"text-align: right;\">\n",
       "      <th></th>\n",
       "      <th>id</th>\n",
       "      <th>country_id</th>\n",
       "      <th>name</th>\n",
       "    </tr>\n",
       "  </thead>\n",
       "  <tbody>\n",
       "    <tr>\n",
       "      <th>0</th>\n",
       "      <td>1</td>\n",
       "      <td>1</td>\n",
       "      <td>Belgium Jupiler League</td>\n",
       "    </tr>\n",
       "    <tr>\n",
       "      <th>1</th>\n",
       "      <td>1729</td>\n",
       "      <td>1729</td>\n",
       "      <td>England Premier League</td>\n",
       "    </tr>\n",
       "  </tbody>\n",
       "</table>\n",
       "</div>"
      ],
      "text/plain": [
       "     id  country_id                    name\n",
       "0     1           1  Belgium Jupiler League\n",
       "1  1729        1729  England Premier League"
      ]
     },
     "execution_count": 72,
     "metadata": {},
     "output_type": "execute_result"
    }
   ],
   "source": [
    "#view the head of the dataframe\n",
    "df_league.head(2)"
   ]
  },
  {
   "cell_type": "code",
   "execution_count": 73,
   "metadata": {},
   "outputs": [
    {
     "data": {
      "text/plain": [
       "(11, 3)"
      ]
     },
     "execution_count": 73,
     "metadata": {},
     "output_type": "execute_result"
    }
   ],
   "source": [
    "df_league.shape"
   ]
  },
  {
   "cell_type": "code",
   "execution_count": 74,
   "metadata": {},
   "outputs": [
    {
     "name": "stdout",
     "output_type": "stream",
     "text": [
      "<class 'pandas.core.frame.DataFrame'>\n",
      "RangeIndex: 11 entries, 0 to 10\n",
      "Data columns (total 3 columns):\n",
      "id            11 non-null int64\n",
      "country_id    11 non-null int64\n",
      "name          11 non-null object\n",
      "dtypes: int64(2), object(1)\n",
      "memory usage: 344.0+ bytes\n"
     ]
    }
   ],
   "source": [
    "df_league.info()"
   ]
  },
  {
   "cell_type": "markdown",
   "metadata": {},
   "source": [
    "3. Country Dataframe"
   ]
  },
  {
   "cell_type": "code",
   "execution_count": 75,
   "metadata": {},
   "outputs": [
    {
     "data": {
      "text/html": [
       "<div>\n",
       "<style scoped>\n",
       "    .dataframe tbody tr th:only-of-type {\n",
       "        vertical-align: middle;\n",
       "    }\n",
       "\n",
       "    .dataframe tbody tr th {\n",
       "        vertical-align: top;\n",
       "    }\n",
       "\n",
       "    .dataframe thead th {\n",
       "        text-align: right;\n",
       "    }\n",
       "</style>\n",
       "<table border=\"1\" class=\"dataframe\">\n",
       "  <thead>\n",
       "    <tr style=\"text-align: right;\">\n",
       "      <th></th>\n",
       "      <th>id</th>\n",
       "      <th>name</th>\n",
       "    </tr>\n",
       "  </thead>\n",
       "  <tbody>\n",
       "    <tr>\n",
       "      <th>0</th>\n",
       "      <td>1</td>\n",
       "      <td>Belgium</td>\n",
       "    </tr>\n",
       "    <tr>\n",
       "      <th>1</th>\n",
       "      <td>1729</td>\n",
       "      <td>England</td>\n",
       "    </tr>\n",
       "  </tbody>\n",
       "</table>\n",
       "</div>"
      ],
      "text/plain": [
       "     id     name\n",
       "0     1  Belgium\n",
       "1  1729  England"
      ]
     },
     "execution_count": 75,
     "metadata": {},
     "output_type": "execute_result"
    }
   ],
   "source": [
    "#view the head of the dataframe\n",
    "df_country.head(2)"
   ]
  },
  {
   "cell_type": "code",
   "execution_count": 76,
   "metadata": {},
   "outputs": [
    {
     "data": {
      "text/plain": [
       "(11, 2)"
      ]
     },
     "execution_count": 76,
     "metadata": {},
     "output_type": "execute_result"
    }
   ],
   "source": [
    "df_country.shape"
   ]
  },
  {
   "cell_type": "code",
   "execution_count": 77,
   "metadata": {},
   "outputs": [
    {
     "name": "stdout",
     "output_type": "stream",
     "text": [
      "<class 'pandas.core.frame.DataFrame'>\n",
      "RangeIndex: 11 entries, 0 to 10\n",
      "Data columns (total 2 columns):\n",
      "id      11 non-null int64\n",
      "name    11 non-null object\n",
      "dtypes: int64(1), object(1)\n",
      "memory usage: 256.0+ bytes\n"
     ]
    }
   ],
   "source": [
    "df_country.info()"
   ]
  },
  {
   "cell_type": "markdown",
   "metadata": {},
   "source": [
    "4. Player Dataframe"
   ]
  },
  {
   "cell_type": "code",
   "execution_count": 78,
   "metadata": {},
   "outputs": [
    {
     "data": {
      "text/html": [
       "<div>\n",
       "<style scoped>\n",
       "    .dataframe tbody tr th:only-of-type {\n",
       "        vertical-align: middle;\n",
       "    }\n",
       "\n",
       "    .dataframe tbody tr th {\n",
       "        vertical-align: top;\n",
       "    }\n",
       "\n",
       "    .dataframe thead th {\n",
       "        text-align: right;\n",
       "    }\n",
       "</style>\n",
       "<table border=\"1\" class=\"dataframe\">\n",
       "  <thead>\n",
       "    <tr style=\"text-align: right;\">\n",
       "      <th></th>\n",
       "      <th>id</th>\n",
       "      <th>player_api_id</th>\n",
       "      <th>player_name</th>\n",
       "      <th>player_fifa_api_id</th>\n",
       "      <th>birthday</th>\n",
       "      <th>height</th>\n",
       "      <th>weight</th>\n",
       "    </tr>\n",
       "  </thead>\n",
       "  <tbody>\n",
       "    <tr>\n",
       "      <th>0</th>\n",
       "      <td>1</td>\n",
       "      <td>505942</td>\n",
       "      <td>Aaron Appindangoye</td>\n",
       "      <td>218353</td>\n",
       "      <td>1992-02-29 00:00:00</td>\n",
       "      <td>182.88</td>\n",
       "      <td>187</td>\n",
       "    </tr>\n",
       "    <tr>\n",
       "      <th>1</th>\n",
       "      <td>2</td>\n",
       "      <td>155782</td>\n",
       "      <td>Aaron Cresswell</td>\n",
       "      <td>189615</td>\n",
       "      <td>1989-12-15 00:00:00</td>\n",
       "      <td>170.18</td>\n",
       "      <td>146</td>\n",
       "    </tr>\n",
       "  </tbody>\n",
       "</table>\n",
       "</div>"
      ],
      "text/plain": [
       "   id  player_api_id         player_name  player_fifa_api_id  \\\n",
       "0   1         505942  Aaron Appindangoye              218353   \n",
       "1   2         155782     Aaron Cresswell              189615   \n",
       "\n",
       "              birthday  height  weight  \n",
       "0  1992-02-29 00:00:00  182.88     187  \n",
       "1  1989-12-15 00:00:00  170.18     146  "
      ]
     },
     "execution_count": 78,
     "metadata": {},
     "output_type": "execute_result"
    }
   ],
   "source": [
    "#view the head of the dataframe\n",
    "df_player.head(2)"
   ]
  },
  {
   "cell_type": "code",
   "execution_count": 79,
   "metadata": {},
   "outputs": [
    {
     "data": {
      "text/plain": [
       "(11060, 7)"
      ]
     },
     "execution_count": 79,
     "metadata": {},
     "output_type": "execute_result"
    }
   ],
   "source": [
    "df_player.shape"
   ]
  },
  {
   "cell_type": "code",
   "execution_count": 80,
   "metadata": {},
   "outputs": [
    {
     "name": "stdout",
     "output_type": "stream",
     "text": [
      "<class 'pandas.core.frame.DataFrame'>\n",
      "RangeIndex: 11060 entries, 0 to 11059\n",
      "Data columns (total 7 columns):\n",
      "id                    11060 non-null int64\n",
      "player_api_id         11060 non-null int64\n",
      "player_name           11060 non-null object\n",
      "player_fifa_api_id    11060 non-null int64\n",
      "birthday              11060 non-null object\n",
      "height                11060 non-null float64\n",
      "weight                11060 non-null int64\n",
      "dtypes: float64(1), int64(4), object(2)\n",
      "memory usage: 604.9+ KB\n"
     ]
    }
   ],
   "source": [
    "df_player.info()"
   ]
  },
  {
   "cell_type": "markdown",
   "metadata": {},
   "source": [
    "The birthday column data type from above result need to be changed from string to datatime data type"
   ]
  },
  {
   "cell_type": "code",
   "execution_count": 81,
   "metadata": {},
   "outputs": [
    {
     "data": {
      "text/plain": [
       "0"
      ]
     },
     "execution_count": 81,
     "metadata": {},
     "output_type": "execute_result"
    }
   ],
   "source": [
    "# checking for duplicate rows\n",
    "df_player.duplicated().sum()"
   ]
  },
  {
   "cell_type": "markdown",
   "metadata": {},
   "source": [
    "5. Team Dataframe"
   ]
  },
  {
   "cell_type": "code",
   "execution_count": 82,
   "metadata": {},
   "outputs": [
    {
     "data": {
      "text/html": [
       "<div>\n",
       "<style scoped>\n",
       "    .dataframe tbody tr th:only-of-type {\n",
       "        vertical-align: middle;\n",
       "    }\n",
       "\n",
       "    .dataframe tbody tr th {\n",
       "        vertical-align: top;\n",
       "    }\n",
       "\n",
       "    .dataframe thead th {\n",
       "        text-align: right;\n",
       "    }\n",
       "</style>\n",
       "<table border=\"1\" class=\"dataframe\">\n",
       "  <thead>\n",
       "    <tr style=\"text-align: right;\">\n",
       "      <th></th>\n",
       "      <th>id</th>\n",
       "      <th>team_api_id</th>\n",
       "      <th>team_fifa_api_id</th>\n",
       "      <th>team_long_name</th>\n",
       "      <th>team_short_name</th>\n",
       "    </tr>\n",
       "  </thead>\n",
       "  <tbody>\n",
       "    <tr>\n",
       "      <th>0</th>\n",
       "      <td>1</td>\n",
       "      <td>9987</td>\n",
       "      <td>673.0</td>\n",
       "      <td>KRC Genk</td>\n",
       "      <td>GEN</td>\n",
       "    </tr>\n",
       "    <tr>\n",
       "      <th>1</th>\n",
       "      <td>2</td>\n",
       "      <td>9993</td>\n",
       "      <td>675.0</td>\n",
       "      <td>Beerschot AC</td>\n",
       "      <td>BAC</td>\n",
       "    </tr>\n",
       "  </tbody>\n",
       "</table>\n",
       "</div>"
      ],
      "text/plain": [
       "   id  team_api_id  team_fifa_api_id team_long_name team_short_name\n",
       "0   1         9987             673.0       KRC Genk             GEN\n",
       "1   2         9993             675.0   Beerschot AC             BAC"
      ]
     },
     "execution_count": 82,
     "metadata": {},
     "output_type": "execute_result"
    }
   ],
   "source": [
    "#view the head of the dataframe\n",
    "df_team.head(2)"
   ]
  },
  {
   "cell_type": "code",
   "execution_count": 83,
   "metadata": {},
   "outputs": [
    {
     "data": {
      "text/plain": [
       "(299, 5)"
      ]
     },
     "execution_count": 83,
     "metadata": {},
     "output_type": "execute_result"
    }
   ],
   "source": [
    "df_team.shape"
   ]
  },
  {
   "cell_type": "code",
   "execution_count": 84,
   "metadata": {
    "scrolled": true
   },
   "outputs": [
    {
     "name": "stdout",
     "output_type": "stream",
     "text": [
      "<class 'pandas.core.frame.DataFrame'>\n",
      "RangeIndex: 299 entries, 0 to 298\n",
      "Data columns (total 5 columns):\n",
      "id                  299 non-null int64\n",
      "team_api_id         299 non-null int64\n",
      "team_fifa_api_id    288 non-null float64\n",
      "team_long_name      299 non-null object\n",
      "team_short_name     299 non-null object\n",
      "dtypes: float64(1), int64(2), object(2)\n",
      "memory usage: 11.8+ KB\n"
     ]
    }
   ],
   "source": [
    "df_team.info()"
   ]
  },
  {
   "cell_type": "markdown",
   "metadata": {},
   "source": [
    "Team_fifa_api_id has null values and the data type needs to be converted to int"
   ]
  },
  {
   "cell_type": "code",
   "execution_count": 85,
   "metadata": {},
   "outputs": [
    {
     "data": {
      "text/plain": [
       "0"
      ]
     },
     "execution_count": 85,
     "metadata": {},
     "output_type": "execute_result"
    }
   ],
   "source": [
    "# checking for duplicate rows\n",
    "df_team.duplicated().sum()"
   ]
  },
  {
   "cell_type": "markdown",
   "metadata": {},
   "source": [
    "6. Team Attributes Dataframe"
   ]
  },
  {
   "cell_type": "code",
   "execution_count": 86,
   "metadata": {},
   "outputs": [
    {
     "data": {
      "text/html": [
       "<div>\n",
       "<style scoped>\n",
       "    .dataframe tbody tr th:only-of-type {\n",
       "        vertical-align: middle;\n",
       "    }\n",
       "\n",
       "    .dataframe tbody tr th {\n",
       "        vertical-align: top;\n",
       "    }\n",
       "\n",
       "    .dataframe thead th {\n",
       "        text-align: right;\n",
       "    }\n",
       "</style>\n",
       "<table border=\"1\" class=\"dataframe\">\n",
       "  <thead>\n",
       "    <tr style=\"text-align: right;\">\n",
       "      <th></th>\n",
       "      <th>id</th>\n",
       "      <th>team_fifa_api_id</th>\n",
       "      <th>team_api_id</th>\n",
       "      <th>date</th>\n",
       "      <th>buildUpPlaySpeed</th>\n",
       "      <th>buildUpPlaySpeedClass</th>\n",
       "      <th>buildUpPlayDribbling</th>\n",
       "      <th>buildUpPlayDribblingClass</th>\n",
       "      <th>buildUpPlayPassing</th>\n",
       "      <th>buildUpPlayPassingClass</th>\n",
       "      <th>...</th>\n",
       "      <th>chanceCreationShooting</th>\n",
       "      <th>chanceCreationShootingClass</th>\n",
       "      <th>chanceCreationPositioningClass</th>\n",
       "      <th>defencePressure</th>\n",
       "      <th>defencePressureClass</th>\n",
       "      <th>defenceAggression</th>\n",
       "      <th>defenceAggressionClass</th>\n",
       "      <th>defenceTeamWidth</th>\n",
       "      <th>defenceTeamWidthClass</th>\n",
       "      <th>defenceDefenderLineClass</th>\n",
       "    </tr>\n",
       "  </thead>\n",
       "  <tbody>\n",
       "    <tr>\n",
       "      <th>0</th>\n",
       "      <td>1</td>\n",
       "      <td>434</td>\n",
       "      <td>9930</td>\n",
       "      <td>2010-02-22 00:00:00</td>\n",
       "      <td>60</td>\n",
       "      <td>Balanced</td>\n",
       "      <td>NaN</td>\n",
       "      <td>Little</td>\n",
       "      <td>50</td>\n",
       "      <td>Mixed</td>\n",
       "      <td>...</td>\n",
       "      <td>55</td>\n",
       "      <td>Normal</td>\n",
       "      <td>Organised</td>\n",
       "      <td>50</td>\n",
       "      <td>Medium</td>\n",
       "      <td>55</td>\n",
       "      <td>Press</td>\n",
       "      <td>45</td>\n",
       "      <td>Normal</td>\n",
       "      <td>Cover</td>\n",
       "    </tr>\n",
       "    <tr>\n",
       "      <th>1</th>\n",
       "      <td>2</td>\n",
       "      <td>434</td>\n",
       "      <td>9930</td>\n",
       "      <td>2014-09-19 00:00:00</td>\n",
       "      <td>52</td>\n",
       "      <td>Balanced</td>\n",
       "      <td>48.0</td>\n",
       "      <td>Normal</td>\n",
       "      <td>56</td>\n",
       "      <td>Mixed</td>\n",
       "      <td>...</td>\n",
       "      <td>64</td>\n",
       "      <td>Normal</td>\n",
       "      <td>Organised</td>\n",
       "      <td>47</td>\n",
       "      <td>Medium</td>\n",
       "      <td>44</td>\n",
       "      <td>Press</td>\n",
       "      <td>54</td>\n",
       "      <td>Normal</td>\n",
       "      <td>Cover</td>\n",
       "    </tr>\n",
       "  </tbody>\n",
       "</table>\n",
       "<p>2 rows × 25 columns</p>\n",
       "</div>"
      ],
      "text/plain": [
       "   id  team_fifa_api_id  team_api_id                 date  buildUpPlaySpeed  \\\n",
       "0   1               434         9930  2010-02-22 00:00:00                60   \n",
       "1   2               434         9930  2014-09-19 00:00:00                52   \n",
       "\n",
       "  buildUpPlaySpeedClass  buildUpPlayDribbling buildUpPlayDribblingClass  \\\n",
       "0              Balanced                   NaN                    Little   \n",
       "1              Balanced                  48.0                    Normal   \n",
       "\n",
       "   buildUpPlayPassing buildUpPlayPassingClass           ...             \\\n",
       "0                  50                   Mixed           ...              \n",
       "1                  56                   Mixed           ...              \n",
       "\n",
       "  chanceCreationShooting  chanceCreationShootingClass  \\\n",
       "0                     55                       Normal   \n",
       "1                     64                       Normal   \n",
       "\n",
       "  chanceCreationPositioningClass  defencePressure defencePressureClass  \\\n",
       "0                      Organised               50               Medium   \n",
       "1                      Organised               47               Medium   \n",
       "\n",
       "   defenceAggression defenceAggressionClass defenceTeamWidth  \\\n",
       "0                 55                  Press               45   \n",
       "1                 44                  Press               54   \n",
       "\n",
       "   defenceTeamWidthClass defenceDefenderLineClass  \n",
       "0                 Normal                    Cover  \n",
       "1                 Normal                    Cover  \n",
       "\n",
       "[2 rows x 25 columns]"
      ]
     },
     "execution_count": 86,
     "metadata": {},
     "output_type": "execute_result"
    }
   ],
   "source": [
    "#view the head of the dataframe\n",
    "df_team_att.head(2)"
   ]
  },
  {
   "cell_type": "code",
   "execution_count": 87,
   "metadata": {},
   "outputs": [
    {
     "data": {
      "text/plain": [
       "(1458, 25)"
      ]
     },
     "execution_count": 87,
     "metadata": {},
     "output_type": "execute_result"
    }
   ],
   "source": [
    "df_team_att.shape"
   ]
  },
  {
   "cell_type": "code",
   "execution_count": 88,
   "metadata": {
    "scrolled": false
   },
   "outputs": [
    {
     "name": "stdout",
     "output_type": "stream",
     "text": [
      "<class 'pandas.core.frame.DataFrame'>\n",
      "RangeIndex: 1458 entries, 0 to 1457\n",
      "Data columns (total 25 columns):\n",
      "id                                1458 non-null int64\n",
      "team_fifa_api_id                  1458 non-null int64\n",
      "team_api_id                       1458 non-null int64\n",
      "date                              1458 non-null object\n",
      "buildUpPlaySpeed                  1458 non-null int64\n",
      "buildUpPlaySpeedClass             1458 non-null object\n",
      "buildUpPlayDribbling              489 non-null float64\n",
      "buildUpPlayDribblingClass         1458 non-null object\n",
      "buildUpPlayPassing                1458 non-null int64\n",
      "buildUpPlayPassingClass           1458 non-null object\n",
      "buildUpPlayPositioningClass       1458 non-null object\n",
      "chanceCreationPassing             1458 non-null int64\n",
      "chanceCreationPassingClass        1458 non-null object\n",
      "chanceCreationCrossing            1458 non-null int64\n",
      "chanceCreationCrossingClass       1458 non-null object\n",
      "chanceCreationShooting            1458 non-null int64\n",
      "chanceCreationShootingClass       1458 non-null object\n",
      "chanceCreationPositioningClass    1458 non-null object\n",
      "defencePressure                   1458 non-null int64\n",
      "defencePressureClass              1458 non-null object\n",
      "defenceAggression                 1458 non-null int64\n",
      "defenceAggressionClass            1458 non-null object\n",
      "defenceTeamWidth                  1458 non-null int64\n",
      "defenceTeamWidthClass             1458 non-null object\n",
      "defenceDefenderLineClass          1458 non-null object\n",
      "dtypes: float64(1), int64(11), object(13)\n",
      "memory usage: 284.8+ KB\n"
     ]
    }
   ],
   "source": [
    "df_team_att.info()"
   ]
  },
  {
   "cell_type": "markdown",
   "metadata": {},
   "source": [
    "above indicates that a column has large null values. this would be look into durng data clealing"
   ]
  },
  {
   "cell_type": "code",
   "execution_count": 89,
   "metadata": {},
   "outputs": [
    {
     "data": {
      "text/plain": [
       "0"
      ]
     },
     "execution_count": 89,
     "metadata": {},
     "output_type": "execute_result"
    }
   ],
   "source": [
    "# checking for duplicate rows\n",
    "df_team_att.duplicated().sum()"
   ]
  },
  {
   "cell_type": "markdown",
   "metadata": {},
   "source": [
    "7. Player Attributes Dataframe"
   ]
  },
  {
   "cell_type": "code",
   "execution_count": 90,
   "metadata": {},
   "outputs": [
    {
     "data": {
      "text/html": [
       "<div>\n",
       "<style scoped>\n",
       "    .dataframe tbody tr th:only-of-type {\n",
       "        vertical-align: middle;\n",
       "    }\n",
       "\n",
       "    .dataframe tbody tr th {\n",
       "        vertical-align: top;\n",
       "    }\n",
       "\n",
       "    .dataframe thead th {\n",
       "        text-align: right;\n",
       "    }\n",
       "</style>\n",
       "<table border=\"1\" class=\"dataframe\">\n",
       "  <thead>\n",
       "    <tr style=\"text-align: right;\">\n",
       "      <th></th>\n",
       "      <th>id</th>\n",
       "      <th>player_fifa_api_id</th>\n",
       "      <th>player_api_id</th>\n",
       "      <th>date</th>\n",
       "      <th>overall_rating</th>\n",
       "      <th>potential</th>\n",
       "      <th>preferred_foot</th>\n",
       "      <th>attacking_work_rate</th>\n",
       "      <th>defensive_work_rate</th>\n",
       "      <th>crossing</th>\n",
       "      <th>...</th>\n",
       "      <th>vision</th>\n",
       "      <th>penalties</th>\n",
       "      <th>marking</th>\n",
       "      <th>standing_tackle</th>\n",
       "      <th>sliding_tackle</th>\n",
       "      <th>gk_diving</th>\n",
       "      <th>gk_handling</th>\n",
       "      <th>gk_kicking</th>\n",
       "      <th>gk_positioning</th>\n",
       "      <th>gk_reflexes</th>\n",
       "    </tr>\n",
       "  </thead>\n",
       "  <tbody>\n",
       "    <tr>\n",
       "      <th>0</th>\n",
       "      <td>1</td>\n",
       "      <td>218353</td>\n",
       "      <td>505942</td>\n",
       "      <td>2016-02-18 00:00:00</td>\n",
       "      <td>67.0</td>\n",
       "      <td>71.0</td>\n",
       "      <td>right</td>\n",
       "      <td>medium</td>\n",
       "      <td>medium</td>\n",
       "      <td>49.0</td>\n",
       "      <td>...</td>\n",
       "      <td>54.0</td>\n",
       "      <td>48.0</td>\n",
       "      <td>65.0</td>\n",
       "      <td>69.0</td>\n",
       "      <td>69.0</td>\n",
       "      <td>6.0</td>\n",
       "      <td>11.0</td>\n",
       "      <td>10.0</td>\n",
       "      <td>8.0</td>\n",
       "      <td>8.0</td>\n",
       "    </tr>\n",
       "    <tr>\n",
       "      <th>1</th>\n",
       "      <td>2</td>\n",
       "      <td>218353</td>\n",
       "      <td>505942</td>\n",
       "      <td>2015-11-19 00:00:00</td>\n",
       "      <td>67.0</td>\n",
       "      <td>71.0</td>\n",
       "      <td>right</td>\n",
       "      <td>medium</td>\n",
       "      <td>medium</td>\n",
       "      <td>49.0</td>\n",
       "      <td>...</td>\n",
       "      <td>54.0</td>\n",
       "      <td>48.0</td>\n",
       "      <td>65.0</td>\n",
       "      <td>69.0</td>\n",
       "      <td>69.0</td>\n",
       "      <td>6.0</td>\n",
       "      <td>11.0</td>\n",
       "      <td>10.0</td>\n",
       "      <td>8.0</td>\n",
       "      <td>8.0</td>\n",
       "    </tr>\n",
       "  </tbody>\n",
       "</table>\n",
       "<p>2 rows × 42 columns</p>\n",
       "</div>"
      ],
      "text/plain": [
       "   id  player_fifa_api_id  player_api_id                 date  overall_rating  \\\n",
       "0   1              218353         505942  2016-02-18 00:00:00            67.0   \n",
       "1   2              218353         505942  2015-11-19 00:00:00            67.0   \n",
       "\n",
       "   potential preferred_foot attacking_work_rate defensive_work_rate  crossing  \\\n",
       "0       71.0          right              medium              medium      49.0   \n",
       "1       71.0          right              medium              medium      49.0   \n",
       "\n",
       "      ...       vision  penalties  marking  standing_tackle  sliding_tackle  \\\n",
       "0     ...         54.0       48.0     65.0             69.0            69.0   \n",
       "1     ...         54.0       48.0     65.0             69.0            69.0   \n",
       "\n",
       "   gk_diving  gk_handling  gk_kicking  gk_positioning  gk_reflexes  \n",
       "0        6.0         11.0        10.0             8.0          8.0  \n",
       "1        6.0         11.0        10.0             8.0          8.0  \n",
       "\n",
       "[2 rows x 42 columns]"
      ]
     },
     "execution_count": 90,
     "metadata": {},
     "output_type": "execute_result"
    }
   ],
   "source": [
    "#view the head of the dataframe\n",
    "df_player_att.head(2)"
   ]
  },
  {
   "cell_type": "code",
   "execution_count": 91,
   "metadata": {},
   "outputs": [
    {
     "data": {
      "text/plain": [
       "(183978, 42)"
      ]
     },
     "execution_count": 91,
     "metadata": {},
     "output_type": "execute_result"
    }
   ],
   "source": [
    "df_player_att.shape"
   ]
  },
  {
   "cell_type": "code",
   "execution_count": 92,
   "metadata": {},
   "outputs": [
    {
     "name": "stdout",
     "output_type": "stream",
     "text": [
      "<class 'pandas.core.frame.DataFrame'>\n",
      "RangeIndex: 183978 entries, 0 to 183977\n",
      "Data columns (total 42 columns):\n",
      "id                     183978 non-null int64\n",
      "player_fifa_api_id     183978 non-null int64\n",
      "player_api_id          183978 non-null int64\n",
      "date                   183978 non-null object\n",
      "overall_rating         183142 non-null float64\n",
      "potential              183142 non-null float64\n",
      "preferred_foot         183142 non-null object\n",
      "attacking_work_rate    180748 non-null object\n",
      "defensive_work_rate    183142 non-null object\n",
      "crossing               183142 non-null float64\n",
      "finishing              183142 non-null float64\n",
      "heading_accuracy       183142 non-null float64\n",
      "short_passing          183142 non-null float64\n",
      "volleys                181265 non-null float64\n",
      "dribbling              183142 non-null float64\n",
      "curve                  181265 non-null float64\n",
      "free_kick_accuracy     183142 non-null float64\n",
      "long_passing           183142 non-null float64\n",
      "ball_control           183142 non-null float64\n",
      "acceleration           183142 non-null float64\n",
      "sprint_speed           183142 non-null float64\n",
      "agility                181265 non-null float64\n",
      "reactions              183142 non-null float64\n",
      "balance                181265 non-null float64\n",
      "shot_power             183142 non-null float64\n",
      "jumping                181265 non-null float64\n",
      "stamina                183142 non-null float64\n",
      "strength               183142 non-null float64\n",
      "long_shots             183142 non-null float64\n",
      "aggression             183142 non-null float64\n",
      "interceptions          183142 non-null float64\n",
      "positioning            183142 non-null float64\n",
      "vision                 181265 non-null float64\n",
      "penalties              183142 non-null float64\n",
      "marking                183142 non-null float64\n",
      "standing_tackle        183142 non-null float64\n",
      "sliding_tackle         181265 non-null float64\n",
      "gk_diving              183142 non-null float64\n",
      "gk_handling            183142 non-null float64\n",
      "gk_kicking             183142 non-null float64\n",
      "gk_positioning         183142 non-null float64\n",
      "gk_reflexes            183142 non-null float64\n",
      "dtypes: float64(35), int64(3), object(4)\n",
      "memory usage: 59.0+ MB\n"
     ]
    }
   ],
   "source": [
    "df_player_att.info()"
   ]
  },
  {
   "cell_type": "code",
   "execution_count": 93,
   "metadata": {},
   "outputs": [
    {
     "data": {
      "text/plain": [
       "id                        0\n",
       "player_fifa_api_id        0\n",
       "player_api_id             0\n",
       "date                      0\n",
       "overall_rating          836\n",
       "potential               836\n",
       "preferred_foot          836\n",
       "attacking_work_rate    3230\n",
       "defensive_work_rate     836\n",
       "crossing                836\n",
       "finishing               836\n",
       "heading_accuracy        836\n",
       "short_passing           836\n",
       "volleys                2713\n",
       "dribbling               836\n",
       "curve                  2713\n",
       "free_kick_accuracy      836\n",
       "long_passing            836\n",
       "ball_control            836\n",
       "acceleration            836\n",
       "sprint_speed            836\n",
       "agility                2713\n",
       "reactions               836\n",
       "balance                2713\n",
       "shot_power              836\n",
       "jumping                2713\n",
       "stamina                 836\n",
       "strength                836\n",
       "long_shots              836\n",
       "aggression              836\n",
       "interceptions           836\n",
       "positioning             836\n",
       "vision                 2713\n",
       "penalties               836\n",
       "marking                 836\n",
       "standing_tackle         836\n",
       "sliding_tackle         2713\n",
       "gk_diving               836\n",
       "gk_handling             836\n",
       "gk_kicking              836\n",
       "gk_positioning          836\n",
       "gk_reflexes             836\n",
       "dtype: int64"
      ]
     },
     "execution_count": 93,
     "metadata": {},
     "output_type": "execute_result"
    }
   ],
   "source": [
    "df_player_att.isnull().sum()"
   ]
  },
  {
   "cell_type": "markdown",
   "metadata": {},
   "source": [
    "The null values here would be looked into"
   ]
  },
  {
   "cell_type": "code",
   "execution_count": 94,
   "metadata": {},
   "outputs": [
    {
     "data": {
      "text/plain": [
       "0"
      ]
     },
     "execution_count": 94,
     "metadata": {},
     "output_type": "execute_result"
    }
   ],
   "source": [
    "# checking for duplicate rows\n",
    "df_player_att.duplicated().sum()"
   ]
  },
  {
   "cell_type": "markdown",
   "metadata": {},
   "source": [
    "\n",
    "### Data Cleaning\n",
    " "
   ]
  },
  {
   "cell_type": "markdown",
   "metadata": {},
   "source": [
    "Match Dataframe\n",
    "\n",
    "Null values were much so we will be dropping all columns with null values"
   ]
  },
  {
   "cell_type": "code",
   "execution_count": 95,
   "metadata": {},
   "outputs": [
    {
     "data": {
      "text/plain": [
       "id                  0\n",
       "country_id          0\n",
       "league_id           0\n",
       "season              0\n",
       "stage               0\n",
       "date                0\n",
       "match_api_id        0\n",
       "home_team_api_id    0\n",
       "away_team_api_id    0\n",
       "home_team_goal      0\n",
       "away_team_goal      0\n",
       "dtype: int64"
      ]
     },
     "execution_count": 95,
     "metadata": {},
     "output_type": "execute_result"
    }
   ],
   "source": [
    "# drop columns with null values\n",
    "df_match.dropna(axis = 1, inplace = True)\n",
    "\n",
    "df_match.isnull().sum()"
   ]
  },
  {
   "cell_type": "code",
   "execution_count": 96,
   "metadata": {},
   "outputs": [
    {
     "name": "stdout",
     "output_type": "stream",
     "text": [
      "<class 'pandas.core.frame.DataFrame'>\n",
      "RangeIndex: 25979 entries, 0 to 25978\n",
      "Data columns (total 11 columns):\n",
      "id                  25979 non-null int64\n",
      "country_id          25979 non-null int64\n",
      "league_id           25979 non-null int64\n",
      "season              25979 non-null object\n",
      "stage               25979 non-null int64\n",
      "date                25979 non-null object\n",
      "match_api_id        25979 non-null int64\n",
      "home_team_api_id    25979 non-null int64\n",
      "away_team_api_id    25979 non-null int64\n",
      "home_team_goal      25979 non-null int64\n",
      "away_team_goal      25979 non-null int64\n",
      "dtypes: int64(9), object(2)\n",
      "memory usage: 2.2+ MB\n"
     ]
    }
   ],
   "source": [
    "df_match.info()"
   ]
  },
  {
   "cell_type": "code",
   "execution_count": 97,
   "metadata": {},
   "outputs": [],
   "source": [
    "#changing the date column data type\n",
    "\n",
    "df_match.date = pd.to_datetime(df_match.date)"
   ]
  },
  {
   "cell_type": "markdown",
   "metadata": {},
   "source": [
    "Slipt the season column to two new columns for the start and end of the season year and drop the season column  "
   ]
  },
  {
   "cell_type": "code",
   "execution_count": 98,
   "metadata": {},
   "outputs": [],
   "source": [
    "start_season = df_match.season.apply(lambda x : x.split('/')[0])\n",
    "\n",
    "end_season = df_match.season.apply(lambda x : x.split('/')[1])"
   ]
  },
  {
   "cell_type": "code",
   "execution_count": 99,
   "metadata": {},
   "outputs": [],
   "source": [
    "#assignig the column to the dataframe\n",
    "df_match['start_season'] = start_season\n",
    "df_match['end_season'] = end_season"
   ]
  },
  {
   "cell_type": "code",
   "execution_count": 100,
   "metadata": {},
   "outputs": [],
   "source": [
    "#drooping season column from the dataframn\n",
    "\n",
    "df_match.drop(columns = ['season'], axis  = 1, inplace = True)"
   ]
  },
  {
   "cell_type": "code",
   "execution_count": 101,
   "metadata": {},
   "outputs": [
    {
     "name": "stdout",
     "output_type": "stream",
     "text": [
      "<class 'pandas.core.frame.DataFrame'>\n",
      "RangeIndex: 25979 entries, 0 to 25978\n",
      "Data columns (total 12 columns):\n",
      "id                  25979 non-null int64\n",
      "country_id          25979 non-null int64\n",
      "league_id           25979 non-null int64\n",
      "stage               25979 non-null int64\n",
      "date                25979 non-null datetime64[ns]\n",
      "match_api_id        25979 non-null int64\n",
      "home_team_api_id    25979 non-null int64\n",
      "away_team_api_id    25979 non-null int64\n",
      "home_team_goal      25979 non-null int64\n",
      "away_team_goal      25979 non-null int64\n",
      "start_season        25979 non-null object\n",
      "end_season          25979 non-null object\n",
      "dtypes: datetime64[ns](1), int64(9), object(2)\n",
      "memory usage: 2.4+ MB\n"
     ]
    }
   ],
   "source": [
    "df_match.info()"
   ]
  },
  {
   "cell_type": "code",
   "execution_count": 102,
   "metadata": {},
   "outputs": [],
   "source": [
    "#change the start and end season column data type to int\n",
    "df_match['start_season'] = df_match.start_season.astype('int')\n",
    "df_match['end_season'] = df_match.end_season.astype('int')\n"
   ]
  },
  {
   "cell_type": "code",
   "execution_count": 103,
   "metadata": {},
   "outputs": [
    {
     "data": {
      "text/html": [
       "<div>\n",
       "<style scoped>\n",
       "    .dataframe tbody tr th:only-of-type {\n",
       "        vertical-align: middle;\n",
       "    }\n",
       "\n",
       "    .dataframe tbody tr th {\n",
       "        vertical-align: top;\n",
       "    }\n",
       "\n",
       "    .dataframe thead th {\n",
       "        text-align: right;\n",
       "    }\n",
       "</style>\n",
       "<table border=\"1\" class=\"dataframe\">\n",
       "  <thead>\n",
       "    <tr style=\"text-align: right;\">\n",
       "      <th></th>\n",
       "      <th>id</th>\n",
       "      <th>country_id</th>\n",
       "      <th>league_id</th>\n",
       "      <th>stage</th>\n",
       "      <th>date</th>\n",
       "      <th>match_api_id</th>\n",
       "      <th>home_team_api_id</th>\n",
       "      <th>away_team_api_id</th>\n",
       "      <th>home_team_goal</th>\n",
       "      <th>away_team_goal</th>\n",
       "      <th>start_season</th>\n",
       "      <th>end_season</th>\n",
       "    </tr>\n",
       "  </thead>\n",
       "  <tbody>\n",
       "    <tr>\n",
       "      <th>0</th>\n",
       "      <td>1</td>\n",
       "      <td>1</td>\n",
       "      <td>1</td>\n",
       "      <td>1</td>\n",
       "      <td>2008-08-17</td>\n",
       "      <td>492473</td>\n",
       "      <td>9987</td>\n",
       "      <td>9993</td>\n",
       "      <td>1</td>\n",
       "      <td>1</td>\n",
       "      <td>2008</td>\n",
       "      <td>2009</td>\n",
       "    </tr>\n",
       "    <tr>\n",
       "      <th>1</th>\n",
       "      <td>2</td>\n",
       "      <td>1</td>\n",
       "      <td>1</td>\n",
       "      <td>1</td>\n",
       "      <td>2008-08-16</td>\n",
       "      <td>492474</td>\n",
       "      <td>10000</td>\n",
       "      <td>9994</td>\n",
       "      <td>0</td>\n",
       "      <td>0</td>\n",
       "      <td>2008</td>\n",
       "      <td>2009</td>\n",
       "    </tr>\n",
       "    <tr>\n",
       "      <th>2</th>\n",
       "      <td>3</td>\n",
       "      <td>1</td>\n",
       "      <td>1</td>\n",
       "      <td>1</td>\n",
       "      <td>2008-08-16</td>\n",
       "      <td>492475</td>\n",
       "      <td>9984</td>\n",
       "      <td>8635</td>\n",
       "      <td>0</td>\n",
       "      <td>3</td>\n",
       "      <td>2008</td>\n",
       "      <td>2009</td>\n",
       "    </tr>\n",
       "    <tr>\n",
       "      <th>3</th>\n",
       "      <td>4</td>\n",
       "      <td>1</td>\n",
       "      <td>1</td>\n",
       "      <td>1</td>\n",
       "      <td>2008-08-17</td>\n",
       "      <td>492476</td>\n",
       "      <td>9991</td>\n",
       "      <td>9998</td>\n",
       "      <td>5</td>\n",
       "      <td>0</td>\n",
       "      <td>2008</td>\n",
       "      <td>2009</td>\n",
       "    </tr>\n",
       "    <tr>\n",
       "      <th>4</th>\n",
       "      <td>5</td>\n",
       "      <td>1</td>\n",
       "      <td>1</td>\n",
       "      <td>1</td>\n",
       "      <td>2008-08-16</td>\n",
       "      <td>492477</td>\n",
       "      <td>7947</td>\n",
       "      <td>9985</td>\n",
       "      <td>1</td>\n",
       "      <td>3</td>\n",
       "      <td>2008</td>\n",
       "      <td>2009</td>\n",
       "    </tr>\n",
       "  </tbody>\n",
       "</table>\n",
       "</div>"
      ],
      "text/plain": [
       "   id  country_id  league_id  stage       date  match_api_id  \\\n",
       "0   1           1          1      1 2008-08-17        492473   \n",
       "1   2           1          1      1 2008-08-16        492474   \n",
       "2   3           1          1      1 2008-08-16        492475   \n",
       "3   4           1          1      1 2008-08-17        492476   \n",
       "4   5           1          1      1 2008-08-16        492477   \n",
       "\n",
       "   home_team_api_id  away_team_api_id  home_team_goal  away_team_goal  \\\n",
       "0              9987              9993               1               1   \n",
       "1             10000              9994               0               0   \n",
       "2              9984              8635               0               3   \n",
       "3              9991              9998               5               0   \n",
       "4              7947              9985               1               3   \n",
       "\n",
       "   start_season  end_season  \n",
       "0          2008        2009  \n",
       "1          2008        2009  \n",
       "2          2008        2009  \n",
       "3          2008        2009  \n",
       "4          2008        2009  "
      ]
     },
     "execution_count": 103,
     "metadata": {},
     "output_type": "execute_result"
    }
   ],
   "source": [
    "df_match.head()"
   ]
  },
  {
   "cell_type": "code",
   "execution_count": 104,
   "metadata": {},
   "outputs": [
    {
     "data": {
      "text/plain": [
       "21518    True\n",
       "4769     True\n",
       "1729     True\n",
       "10257    True\n",
       "13274    True\n",
       "7809     True\n",
       "17642    True\n",
       "15722    True\n",
       "19694    True\n",
       "1        True\n",
       "24558    True\n",
       "dtype: bool"
      ]
     },
     "execution_count": 104,
     "metadata": {},
     "output_type": "execute_result"
    }
   ],
   "source": [
    "#checking if country_id and league_id had the same values. \n",
    "df_match['league_id'].value_counts() == df_match['country_id'].value_counts()"
   ]
  },
  {
   "cell_type": "code",
   "execution_count": 105,
   "metadata": {},
   "outputs": [
    {
     "data": {
      "text/html": [
       "<div>\n",
       "<style scoped>\n",
       "    .dataframe tbody tr th:only-of-type {\n",
       "        vertical-align: middle;\n",
       "    }\n",
       "\n",
       "    .dataframe tbody tr th {\n",
       "        vertical-align: top;\n",
       "    }\n",
       "\n",
       "    .dataframe thead th {\n",
       "        text-align: right;\n",
       "    }\n",
       "</style>\n",
       "<table border=\"1\" class=\"dataframe\">\n",
       "  <thead>\n",
       "    <tr style=\"text-align: right;\">\n",
       "      <th></th>\n",
       "      <th>id</th>\n",
       "      <th>league_id</th>\n",
       "      <th>stage</th>\n",
       "      <th>date</th>\n",
       "      <th>match_api_id</th>\n",
       "      <th>home_team_api_id</th>\n",
       "      <th>away_team_api_id</th>\n",
       "      <th>home_team_goal</th>\n",
       "      <th>away_team_goal</th>\n",
       "      <th>start_season</th>\n",
       "      <th>end_season</th>\n",
       "    </tr>\n",
       "  </thead>\n",
       "  <tbody>\n",
       "    <tr>\n",
       "      <th>0</th>\n",
       "      <td>1</td>\n",
       "      <td>1</td>\n",
       "      <td>1</td>\n",
       "      <td>2008-08-17</td>\n",
       "      <td>492473</td>\n",
       "      <td>9987</td>\n",
       "      <td>9993</td>\n",
       "      <td>1</td>\n",
       "      <td>1</td>\n",
       "      <td>2008</td>\n",
       "      <td>2009</td>\n",
       "    </tr>\n",
       "    <tr>\n",
       "      <th>1</th>\n",
       "      <td>2</td>\n",
       "      <td>1</td>\n",
       "      <td>1</td>\n",
       "      <td>2008-08-16</td>\n",
       "      <td>492474</td>\n",
       "      <td>10000</td>\n",
       "      <td>9994</td>\n",
       "      <td>0</td>\n",
       "      <td>0</td>\n",
       "      <td>2008</td>\n",
       "      <td>2009</td>\n",
       "    </tr>\n",
       "    <tr>\n",
       "      <th>2</th>\n",
       "      <td>3</td>\n",
       "      <td>1</td>\n",
       "      <td>1</td>\n",
       "      <td>2008-08-16</td>\n",
       "      <td>492475</td>\n",
       "      <td>9984</td>\n",
       "      <td>8635</td>\n",
       "      <td>0</td>\n",
       "      <td>3</td>\n",
       "      <td>2008</td>\n",
       "      <td>2009</td>\n",
       "    </tr>\n",
       "    <tr>\n",
       "      <th>3</th>\n",
       "      <td>4</td>\n",
       "      <td>1</td>\n",
       "      <td>1</td>\n",
       "      <td>2008-08-17</td>\n",
       "      <td>492476</td>\n",
       "      <td>9991</td>\n",
       "      <td>9998</td>\n",
       "      <td>5</td>\n",
       "      <td>0</td>\n",
       "      <td>2008</td>\n",
       "      <td>2009</td>\n",
       "    </tr>\n",
       "    <tr>\n",
       "      <th>4</th>\n",
       "      <td>5</td>\n",
       "      <td>1</td>\n",
       "      <td>1</td>\n",
       "      <td>2008-08-16</td>\n",
       "      <td>492477</td>\n",
       "      <td>7947</td>\n",
       "      <td>9985</td>\n",
       "      <td>1</td>\n",
       "      <td>3</td>\n",
       "      <td>2008</td>\n",
       "      <td>2009</td>\n",
       "    </tr>\n",
       "  </tbody>\n",
       "</table>\n",
       "</div>"
      ],
      "text/plain": [
       "   id  league_id  stage       date  match_api_id  home_team_api_id  \\\n",
       "0   1          1      1 2008-08-17        492473              9987   \n",
       "1   2          1      1 2008-08-16        492474             10000   \n",
       "2   3          1      1 2008-08-16        492475              9984   \n",
       "3   4          1      1 2008-08-17        492476              9991   \n",
       "4   5          1      1 2008-08-16        492477              7947   \n",
       "\n",
       "   away_team_api_id  home_team_goal  away_team_goal  start_season  end_season  \n",
       "0              9993               1               1          2008        2009  \n",
       "1              9994               0               0          2008        2009  \n",
       "2              8635               0               3          2008        2009  \n",
       "3              9998               5               0          2008        2009  \n",
       "4              9985               1               3          2008        2009  "
      ]
     },
     "execution_count": 105,
     "metadata": {},
     "output_type": "execute_result"
    }
   ],
   "source": [
    "df_match.drop(columns=['country_id'], axis = 1, inplace = True)\n",
    "df_match.head()"
   ]
  },
  {
   "cell_type": "markdown",
   "metadata": {},
   "source": [
    "Country and League dataframe"
   ]
  },
  {
   "cell_type": "code",
   "execution_count": 106,
   "metadata": {},
   "outputs": [],
   "source": [
    "#Renaming id column for both dataframe to league_id\n",
    "#Since they have the same values\n",
    "df_country.rename(columns={'id' : 'league_id'}, inplace = True)\n",
    "\n",
    "df_league.rename(columns={'id' : 'league_id'}, inplace = True)\n",
    "\n",
    "#Renaming the name column for both country and league dataframe\n",
    "# To country_name and league_name respectively\n",
    "df_country.rename(columns={'name' : 'country_name'}, inplace = True)\n",
    "\n",
    "df_league.rename(columns={'name' : 'league_name'}, inplace = True)\n"
   ]
  },
  {
   "cell_type": "code",
   "execution_count": 107,
   "metadata": {},
   "outputs": [
    {
     "data": {
      "text/html": [
       "<div>\n",
       "<style scoped>\n",
       "    .dataframe tbody tr th:only-of-type {\n",
       "        vertical-align: middle;\n",
       "    }\n",
       "\n",
       "    .dataframe tbody tr th {\n",
       "        vertical-align: top;\n",
       "    }\n",
       "\n",
       "    .dataframe thead th {\n",
       "        text-align: right;\n",
       "    }\n",
       "</style>\n",
       "<table border=\"1\" class=\"dataframe\">\n",
       "  <thead>\n",
       "    <tr style=\"text-align: right;\">\n",
       "      <th></th>\n",
       "      <th>league_id</th>\n",
       "      <th>country_name</th>\n",
       "    </tr>\n",
       "  </thead>\n",
       "  <tbody>\n",
       "    <tr>\n",
       "      <th>0</th>\n",
       "      <td>1</td>\n",
       "      <td>Belgium</td>\n",
       "    </tr>\n",
       "    <tr>\n",
       "      <th>1</th>\n",
       "      <td>1729</td>\n",
       "      <td>England</td>\n",
       "    </tr>\n",
       "    <tr>\n",
       "      <th>2</th>\n",
       "      <td>4769</td>\n",
       "      <td>France</td>\n",
       "    </tr>\n",
       "    <tr>\n",
       "      <th>3</th>\n",
       "      <td>7809</td>\n",
       "      <td>Germany</td>\n",
       "    </tr>\n",
       "    <tr>\n",
       "      <th>4</th>\n",
       "      <td>10257</td>\n",
       "      <td>Italy</td>\n",
       "    </tr>\n",
       "  </tbody>\n",
       "</table>\n",
       "</div>"
      ],
      "text/plain": [
       "   league_id country_name\n",
       "0          1      Belgium\n",
       "1       1729      England\n",
       "2       4769       France\n",
       "3       7809      Germany\n",
       "4      10257        Italy"
      ]
     },
     "execution_count": 107,
     "metadata": {},
     "output_type": "execute_result"
    }
   ],
   "source": [
    "df_country.head()"
   ]
  },
  {
   "cell_type": "code",
   "execution_count": 108,
   "metadata": {},
   "outputs": [
    {
     "data": {
      "text/html": [
       "<div>\n",
       "<style scoped>\n",
       "    .dataframe tbody tr th:only-of-type {\n",
       "        vertical-align: middle;\n",
       "    }\n",
       "\n",
       "    .dataframe tbody tr th {\n",
       "        vertical-align: top;\n",
       "    }\n",
       "\n",
       "    .dataframe thead th {\n",
       "        text-align: right;\n",
       "    }\n",
       "</style>\n",
       "<table border=\"1\" class=\"dataframe\">\n",
       "  <thead>\n",
       "    <tr style=\"text-align: right;\">\n",
       "      <th></th>\n",
       "      <th>league_id</th>\n",
       "      <th>country_id</th>\n",
       "      <th>league_name</th>\n",
       "    </tr>\n",
       "  </thead>\n",
       "  <tbody>\n",
       "    <tr>\n",
       "      <th>0</th>\n",
       "      <td>1</td>\n",
       "      <td>1</td>\n",
       "      <td>Belgium Jupiler League</td>\n",
       "    </tr>\n",
       "    <tr>\n",
       "      <th>1</th>\n",
       "      <td>1729</td>\n",
       "      <td>1729</td>\n",
       "      <td>England Premier League</td>\n",
       "    </tr>\n",
       "    <tr>\n",
       "      <th>2</th>\n",
       "      <td>4769</td>\n",
       "      <td>4769</td>\n",
       "      <td>France Ligue 1</td>\n",
       "    </tr>\n",
       "    <tr>\n",
       "      <th>3</th>\n",
       "      <td>7809</td>\n",
       "      <td>7809</td>\n",
       "      <td>Germany 1. Bundesliga</td>\n",
       "    </tr>\n",
       "    <tr>\n",
       "      <th>4</th>\n",
       "      <td>10257</td>\n",
       "      <td>10257</td>\n",
       "      <td>Italy Serie A</td>\n",
       "    </tr>\n",
       "  </tbody>\n",
       "</table>\n",
       "</div>"
      ],
      "text/plain": [
       "   league_id  country_id             league_name\n",
       "0          1           1  Belgium Jupiler League\n",
       "1       1729        1729  England Premier League\n",
       "2       4769        4769          France Ligue 1\n",
       "3       7809        7809   Germany 1. Bundesliga\n",
       "4      10257       10257           Italy Serie A"
      ]
     },
     "execution_count": 108,
     "metadata": {},
     "output_type": "execute_result"
    }
   ],
   "source": [
    "df_league.head()"
   ]
  },
  {
   "cell_type": "code",
   "execution_count": 109,
   "metadata": {},
   "outputs": [],
   "source": [
    "#droping country_id column\n",
    "df_league.drop(columns = ['country_id'], axis = 1, inplace = True)"
   ]
  },
  {
   "cell_type": "markdown",
   "metadata": {},
   "source": [
    "Merge League and Country dataframes together and name the new dataframe to be `df_coun_lea` "
   ]
  },
  {
   "cell_type": "code",
   "execution_count": 110,
   "metadata": {},
   "outputs": [],
   "source": [
    "df_coun_lea = df_country.merge(df_league, left_on = 'league_id',\n",
    "                               right_on = 'league_id')"
   ]
  },
  {
   "cell_type": "code",
   "execution_count": 111,
   "metadata": {},
   "outputs": [
    {
     "data": {
      "text/html": [
       "<div>\n",
       "<style scoped>\n",
       "    .dataframe tbody tr th:only-of-type {\n",
       "        vertical-align: middle;\n",
       "    }\n",
       "\n",
       "    .dataframe tbody tr th {\n",
       "        vertical-align: top;\n",
       "    }\n",
       "\n",
       "    .dataframe thead th {\n",
       "        text-align: right;\n",
       "    }\n",
       "</style>\n",
       "<table border=\"1\" class=\"dataframe\">\n",
       "  <thead>\n",
       "    <tr style=\"text-align: right;\">\n",
       "      <th></th>\n",
       "      <th>league_id</th>\n",
       "      <th>country_name</th>\n",
       "      <th>league_name</th>\n",
       "    </tr>\n",
       "  </thead>\n",
       "  <tbody>\n",
       "    <tr>\n",
       "      <th>0</th>\n",
       "      <td>1</td>\n",
       "      <td>Belgium</td>\n",
       "      <td>Belgium Jupiler League</td>\n",
       "    </tr>\n",
       "    <tr>\n",
       "      <th>1</th>\n",
       "      <td>1729</td>\n",
       "      <td>England</td>\n",
       "      <td>England Premier League</td>\n",
       "    </tr>\n",
       "    <tr>\n",
       "      <th>2</th>\n",
       "      <td>4769</td>\n",
       "      <td>France</td>\n",
       "      <td>France Ligue 1</td>\n",
       "    </tr>\n",
       "    <tr>\n",
       "      <th>3</th>\n",
       "      <td>7809</td>\n",
       "      <td>Germany</td>\n",
       "      <td>Germany 1. Bundesliga</td>\n",
       "    </tr>\n",
       "    <tr>\n",
       "      <th>4</th>\n",
       "      <td>10257</td>\n",
       "      <td>Italy</td>\n",
       "      <td>Italy Serie A</td>\n",
       "    </tr>\n",
       "  </tbody>\n",
       "</table>\n",
       "</div>"
      ],
      "text/plain": [
       "   league_id country_name             league_name\n",
       "0          1      Belgium  Belgium Jupiler League\n",
       "1       1729      England  England Premier League\n",
       "2       4769       France          France Ligue 1\n",
       "3       7809      Germany   Germany 1. Bundesliga\n",
       "4      10257        Italy           Italy Serie A"
      ]
     },
     "execution_count": 111,
     "metadata": {},
     "output_type": "execute_result"
    }
   ],
   "source": [
    "df_coun_lea.head()"
   ]
  },
  {
   "cell_type": "markdown",
   "metadata": {},
   "source": [
    "Merge Match and coun_lea dataframes together and name the new dataframe to be `df_match_ed` \n"
   ]
  },
  {
   "cell_type": "code",
   "execution_count": 112,
   "metadata": {},
   "outputs": [
    {
     "data": {
      "text/html": [
       "<div>\n",
       "<style scoped>\n",
       "    .dataframe tbody tr th:only-of-type {\n",
       "        vertical-align: middle;\n",
       "    }\n",
       "\n",
       "    .dataframe tbody tr th {\n",
       "        vertical-align: top;\n",
       "    }\n",
       "\n",
       "    .dataframe thead th {\n",
       "        text-align: right;\n",
       "    }\n",
       "</style>\n",
       "<table border=\"1\" class=\"dataframe\">\n",
       "  <thead>\n",
       "    <tr style=\"text-align: right;\">\n",
       "      <th></th>\n",
       "      <th>id</th>\n",
       "      <th>league_id</th>\n",
       "      <th>stage</th>\n",
       "      <th>date</th>\n",
       "      <th>match_api_id</th>\n",
       "      <th>home_team_api_id</th>\n",
       "      <th>away_team_api_id</th>\n",
       "      <th>home_team_goal</th>\n",
       "      <th>away_team_goal</th>\n",
       "      <th>start_season</th>\n",
       "      <th>end_season</th>\n",
       "      <th>country_name</th>\n",
       "      <th>league_name</th>\n",
       "    </tr>\n",
       "  </thead>\n",
       "  <tbody>\n",
       "    <tr>\n",
       "      <th>0</th>\n",
       "      <td>1</td>\n",
       "      <td>1</td>\n",
       "      <td>1</td>\n",
       "      <td>2008-08-17</td>\n",
       "      <td>492473</td>\n",
       "      <td>9987</td>\n",
       "      <td>9993</td>\n",
       "      <td>1</td>\n",
       "      <td>1</td>\n",
       "      <td>2008</td>\n",
       "      <td>2009</td>\n",
       "      <td>Belgium</td>\n",
       "      <td>Belgium Jupiler League</td>\n",
       "    </tr>\n",
       "    <tr>\n",
       "      <th>1</th>\n",
       "      <td>2</td>\n",
       "      <td>1</td>\n",
       "      <td>1</td>\n",
       "      <td>2008-08-16</td>\n",
       "      <td>492474</td>\n",
       "      <td>10000</td>\n",
       "      <td>9994</td>\n",
       "      <td>0</td>\n",
       "      <td>0</td>\n",
       "      <td>2008</td>\n",
       "      <td>2009</td>\n",
       "      <td>Belgium</td>\n",
       "      <td>Belgium Jupiler League</td>\n",
       "    </tr>\n",
       "    <tr>\n",
       "      <th>2</th>\n",
       "      <td>3</td>\n",
       "      <td>1</td>\n",
       "      <td>1</td>\n",
       "      <td>2008-08-16</td>\n",
       "      <td>492475</td>\n",
       "      <td>9984</td>\n",
       "      <td>8635</td>\n",
       "      <td>0</td>\n",
       "      <td>3</td>\n",
       "      <td>2008</td>\n",
       "      <td>2009</td>\n",
       "      <td>Belgium</td>\n",
       "      <td>Belgium Jupiler League</td>\n",
       "    </tr>\n",
       "    <tr>\n",
       "      <th>3</th>\n",
       "      <td>4</td>\n",
       "      <td>1</td>\n",
       "      <td>1</td>\n",
       "      <td>2008-08-17</td>\n",
       "      <td>492476</td>\n",
       "      <td>9991</td>\n",
       "      <td>9998</td>\n",
       "      <td>5</td>\n",
       "      <td>0</td>\n",
       "      <td>2008</td>\n",
       "      <td>2009</td>\n",
       "      <td>Belgium</td>\n",
       "      <td>Belgium Jupiler League</td>\n",
       "    </tr>\n",
       "    <tr>\n",
       "      <th>4</th>\n",
       "      <td>5</td>\n",
       "      <td>1</td>\n",
       "      <td>1</td>\n",
       "      <td>2008-08-16</td>\n",
       "      <td>492477</td>\n",
       "      <td>7947</td>\n",
       "      <td>9985</td>\n",
       "      <td>1</td>\n",
       "      <td>3</td>\n",
       "      <td>2008</td>\n",
       "      <td>2009</td>\n",
       "      <td>Belgium</td>\n",
       "      <td>Belgium Jupiler League</td>\n",
       "    </tr>\n",
       "  </tbody>\n",
       "</table>\n",
       "</div>"
      ],
      "text/plain": [
       "   id  league_id  stage       date  match_api_id  home_team_api_id  \\\n",
       "0   1          1      1 2008-08-17        492473              9987   \n",
       "1   2          1      1 2008-08-16        492474             10000   \n",
       "2   3          1      1 2008-08-16        492475              9984   \n",
       "3   4          1      1 2008-08-17        492476              9991   \n",
       "4   5          1      1 2008-08-16        492477              7947   \n",
       "\n",
       "   away_team_api_id  home_team_goal  away_team_goal  start_season  end_season  \\\n",
       "0              9993               1               1          2008        2009   \n",
       "1              9994               0               0          2008        2009   \n",
       "2              8635               0               3          2008        2009   \n",
       "3              9998               5               0          2008        2009   \n",
       "4              9985               1               3          2008        2009   \n",
       "\n",
       "  country_name             league_name  \n",
       "0      Belgium  Belgium Jupiler League  \n",
       "1      Belgium  Belgium Jupiler League  \n",
       "2      Belgium  Belgium Jupiler League  \n",
       "3      Belgium  Belgium Jupiler League  \n",
       "4      Belgium  Belgium Jupiler League  "
      ]
     },
     "execution_count": 112,
     "metadata": {},
     "output_type": "execute_result"
    }
   ],
   "source": [
    "df_match_ed = df_match.merge(df_coun_lea, left_on = 'league_id',\n",
    "                          right_on = 'league_id' )\n",
    "\n",
    "df_match_ed.head()"
   ]
  },
  {
   "cell_type": "code",
   "execution_count": 113,
   "metadata": {},
   "outputs": [
    {
     "name": "stdout",
     "output_type": "stream",
     "text": [
      "<class 'pandas.core.frame.DataFrame'>\n",
      "Int64Index: 25979 entries, 0 to 25978\n",
      "Data columns (total 13 columns):\n",
      "id                  25979 non-null int64\n",
      "league_id           25979 non-null int64\n",
      "stage               25979 non-null int64\n",
      "date                25979 non-null datetime64[ns]\n",
      "match_api_id        25979 non-null int64\n",
      "home_team_api_id    25979 non-null int64\n",
      "away_team_api_id    25979 non-null int64\n",
      "home_team_goal      25979 non-null int64\n",
      "away_team_goal      25979 non-null int64\n",
      "start_season        25979 non-null int64\n",
      "end_season          25979 non-null int64\n",
      "country_name        25979 non-null object\n",
      "league_name         25979 non-null object\n",
      "dtypes: datetime64[ns](1), int64(10), object(2)\n",
      "memory usage: 2.8+ MB\n"
     ]
    }
   ],
   "source": [
    "df_match_ed.info()"
   ]
  },
  {
   "cell_type": "markdown",
   "metadata": {},
   "source": [
    "Player Dataframe"
   ]
  },
  {
   "cell_type": "code",
   "execution_count": 114,
   "metadata": {},
   "outputs": [
    {
     "name": "stdout",
     "output_type": "stream",
     "text": [
      "<class 'pandas.core.frame.DataFrame'>\n",
      "RangeIndex: 11060 entries, 0 to 11059\n",
      "Data columns (total 7 columns):\n",
      "id                    11060 non-null int64\n",
      "player_api_id         11060 non-null int64\n",
      "player_name           11060 non-null object\n",
      "player_fifa_api_id    11060 non-null int64\n",
      "birthday              11060 non-null object\n",
      "height                11060 non-null float64\n",
      "weight                11060 non-null int64\n",
      "dtypes: float64(1), int64(4), object(2)\n",
      "memory usage: 604.9+ KB\n"
     ]
    }
   ],
   "source": [
    "df_player.info()"
   ]
  },
  {
   "cell_type": "code",
   "execution_count": 115,
   "metadata": {},
   "outputs": [],
   "source": [
    "#changing the birthday column data type\n",
    "\n",
    "df_player.birthday  = pd.to_datetime(df_player.birthday)"
   ]
  },
  {
   "cell_type": "code",
   "execution_count": 116,
   "metadata": {},
   "outputs": [],
   "source": [
    "#dropping player_fifa_api_id column\n",
    "\n",
    "df_player.drop(columns = ['player_fifa_api_id'], \n",
    "               axis =  1, inplace = True)"
   ]
  },
  {
   "cell_type": "markdown",
   "metadata": {},
   "source": [
    "\n",
    "\n",
    "Team Dataframe\n",
    "\n",
    "\n"
   ]
  },
  {
   "cell_type": "code",
   "execution_count": 117,
   "metadata": {},
   "outputs": [
    {
     "name": "stdout",
     "output_type": "stream",
     "text": [
      "<class 'pandas.core.frame.DataFrame'>\n",
      "RangeIndex: 299 entries, 0 to 298\n",
      "Data columns (total 5 columns):\n",
      "id                  299 non-null int64\n",
      "team_api_id         299 non-null int64\n",
      "team_fifa_api_id    288 non-null float64\n",
      "team_long_name      299 non-null object\n",
      "team_short_name     299 non-null object\n",
      "dtypes: float64(1), int64(2), object(2)\n",
      "memory usage: 11.8+ KB\n"
     ]
    }
   ],
   "source": [
    "df_team.info()"
   ]
  },
  {
   "cell_type": "code",
   "execution_count": 118,
   "metadata": {},
   "outputs": [
    {
     "data": {
      "text/plain": [
       "id                   0\n",
       "team_api_id          0\n",
       "team_fifa_api_id    11\n",
       "team_long_name       0\n",
       "team_short_name      0\n",
       "dtype: int64"
      ]
     },
     "execution_count": 118,
     "metadata": {},
     "output_type": "execute_result"
    }
   ],
   "source": [
    "df_team.isnull().sum()"
   ]
  },
  {
   "cell_type": "code",
   "execution_count": 119,
   "metadata": {},
   "outputs": [],
   "source": [
    "#dropping null column\n",
    "df_team.drop(columns = ['team_fifa_api_id'],inplace = True)"
   ]
  },
  {
   "cell_type": "code",
   "execution_count": 120,
   "metadata": {},
   "outputs": [],
   "source": [
    "# Reanaming column \n",
    "\n",
    "df_team.rename(columns = {'team_long_name' : 'team_name'}, \n",
    "               inplace = True)"
   ]
  },
  {
   "cell_type": "markdown",
   "metadata": {},
   "source": [
    "Player Attributes Dataframe"
   ]
  },
  {
   "cell_type": "code",
   "execution_count": 121,
   "metadata": {},
   "outputs": [
    {
     "data": {
      "text/plain": [
       "id                        0\n",
       "player_fifa_api_id        0\n",
       "player_api_id             0\n",
       "date                      0\n",
       "overall_rating          836\n",
       "potential               836\n",
       "preferred_foot          836\n",
       "attacking_work_rate    3230\n",
       "defensive_work_rate     836\n",
       "crossing                836\n",
       "finishing               836\n",
       "heading_accuracy        836\n",
       "short_passing           836\n",
       "volleys                2713\n",
       "dribbling               836\n",
       "curve                  2713\n",
       "free_kick_accuracy      836\n",
       "long_passing            836\n",
       "ball_control            836\n",
       "acceleration            836\n",
       "sprint_speed            836\n",
       "agility                2713\n",
       "reactions               836\n",
       "balance                2713\n",
       "shot_power              836\n",
       "jumping                2713\n",
       "stamina                 836\n",
       "strength                836\n",
       "long_shots              836\n",
       "aggression              836\n",
       "interceptions           836\n",
       "positioning             836\n",
       "vision                 2713\n",
       "penalties               836\n",
       "marking                 836\n",
       "standing_tackle         836\n",
       "sliding_tackle         2713\n",
       "gk_diving               836\n",
       "gk_handling             836\n",
       "gk_kicking              836\n",
       "gk_positioning          836\n",
       "gk_reflexes             836\n",
       "dtype: int64"
      ]
     },
     "execution_count": 121,
     "metadata": {},
     "output_type": "execute_result"
    }
   ],
   "source": [
    "df_player_att.isnull().sum()"
   ]
  },
  {
   "cell_type": "markdown",
   "metadata": {},
   "source": [
    " Dropping all rows involved with the null values.\n",
    " \n",
    " Changing the date column data type to the proper data type"
   ]
  },
  {
   "cell_type": "code",
   "execution_count": 122,
   "metadata": {},
   "outputs": [],
   "source": [
    "# droping rows with null values\n",
    "df_player_att.dropna(axis = 0, inplace = True)"
   ]
  },
  {
   "cell_type": "code",
   "execution_count": 123,
   "metadata": {},
   "outputs": [
    {
     "name": "stdout",
     "output_type": "stream",
     "text": [
      "<class 'pandas.core.frame.DataFrame'>\n",
      "Int64Index: 180354 entries, 0 to 183977\n",
      "Data columns (total 42 columns):\n",
      "id                     180354 non-null int64\n",
      "player_fifa_api_id     180354 non-null int64\n",
      "player_api_id          180354 non-null int64\n",
      "date                   180354 non-null object\n",
      "overall_rating         180354 non-null float64\n",
      "potential              180354 non-null float64\n",
      "preferred_foot         180354 non-null object\n",
      "attacking_work_rate    180354 non-null object\n",
      "defensive_work_rate    180354 non-null object\n",
      "crossing               180354 non-null float64\n",
      "finishing              180354 non-null float64\n",
      "heading_accuracy       180354 non-null float64\n",
      "short_passing          180354 non-null float64\n",
      "volleys                180354 non-null float64\n",
      "dribbling              180354 non-null float64\n",
      "curve                  180354 non-null float64\n",
      "free_kick_accuracy     180354 non-null float64\n",
      "long_passing           180354 non-null float64\n",
      "ball_control           180354 non-null float64\n",
      "acceleration           180354 non-null float64\n",
      "sprint_speed           180354 non-null float64\n",
      "agility                180354 non-null float64\n",
      "reactions              180354 non-null float64\n",
      "balance                180354 non-null float64\n",
      "shot_power             180354 non-null float64\n",
      "jumping                180354 non-null float64\n",
      "stamina                180354 non-null float64\n",
      "strength               180354 non-null float64\n",
      "long_shots             180354 non-null float64\n",
      "aggression             180354 non-null float64\n",
      "interceptions          180354 non-null float64\n",
      "positioning            180354 non-null float64\n",
      "vision                 180354 non-null float64\n",
      "penalties              180354 non-null float64\n",
      "marking                180354 non-null float64\n",
      "standing_tackle        180354 non-null float64\n",
      "sliding_tackle         180354 non-null float64\n",
      "gk_diving              180354 non-null float64\n",
      "gk_handling            180354 non-null float64\n",
      "gk_kicking             180354 non-null float64\n",
      "gk_positioning         180354 non-null float64\n",
      "gk_reflexes            180354 non-null float64\n",
      "dtypes: float64(35), int64(3), object(4)\n",
      "memory usage: 59.2+ MB\n"
     ]
    }
   ],
   "source": [
    "df_player_att.info()"
   ]
  },
  {
   "cell_type": "code",
   "execution_count": 124,
   "metadata": {},
   "outputs": [],
   "source": [
    "#changing data type of Date column\n",
    "df_player_att.date  = pd.to_datetime(df_player_att.date)"
   ]
  },
  {
   "cell_type": "code",
   "execution_count": 125,
   "metadata": {},
   "outputs": [],
   "source": [
    "#dropping Id and player_fifa_api_id column\n",
    "\n",
    "\n",
    "df_player_att.drop(columns = ['id', 'player_fifa_api_id'], \n",
    "                   axis =  1, inplace = True)"
   ]
  },
  {
   "cell_type": "markdown",
   "metadata": {},
   "source": [
    "Merge the Player and Player attributes dataframes together\n",
    "\n",
    "The new dataframe should be named `df_player_ed`"
   ]
  },
  {
   "cell_type": "code",
   "execution_count": 126,
   "metadata": {
    "scrolled": true
   },
   "outputs": [
    {
     "data": {
      "text/html": [
       "<div>\n",
       "<style scoped>\n",
       "    .dataframe tbody tr th:only-of-type {\n",
       "        vertical-align: middle;\n",
       "    }\n",
       "\n",
       "    .dataframe tbody tr th {\n",
       "        vertical-align: top;\n",
       "    }\n",
       "\n",
       "    .dataframe thead th {\n",
       "        text-align: right;\n",
       "    }\n",
       "</style>\n",
       "<table border=\"1\" class=\"dataframe\">\n",
       "  <thead>\n",
       "    <tr style=\"text-align: right;\">\n",
       "      <th></th>\n",
       "      <th>id</th>\n",
       "      <th>player_api_id</th>\n",
       "      <th>player_name</th>\n",
       "      <th>birthday</th>\n",
       "      <th>height</th>\n",
       "      <th>weight</th>\n",
       "      <th>date</th>\n",
       "      <th>overall_rating</th>\n",
       "      <th>potential</th>\n",
       "      <th>preferred_foot</th>\n",
       "      <th>...</th>\n",
       "      <th>vision</th>\n",
       "      <th>penalties</th>\n",
       "      <th>marking</th>\n",
       "      <th>standing_tackle</th>\n",
       "      <th>sliding_tackle</th>\n",
       "      <th>gk_diving</th>\n",
       "      <th>gk_handling</th>\n",
       "      <th>gk_kicking</th>\n",
       "      <th>gk_positioning</th>\n",
       "      <th>gk_reflexes</th>\n",
       "    </tr>\n",
       "  </thead>\n",
       "  <tbody>\n",
       "    <tr>\n",
       "      <th>0</th>\n",
       "      <td>1</td>\n",
       "      <td>505942</td>\n",
       "      <td>Aaron Appindangoye</td>\n",
       "      <td>1992-02-29</td>\n",
       "      <td>182.88</td>\n",
       "      <td>187</td>\n",
       "      <td>2016-02-18</td>\n",
       "      <td>67.0</td>\n",
       "      <td>71.0</td>\n",
       "      <td>right</td>\n",
       "      <td>...</td>\n",
       "      <td>54.0</td>\n",
       "      <td>48.0</td>\n",
       "      <td>65.0</td>\n",
       "      <td>69.0</td>\n",
       "      <td>69.0</td>\n",
       "      <td>6.0</td>\n",
       "      <td>11.0</td>\n",
       "      <td>10.0</td>\n",
       "      <td>8.0</td>\n",
       "      <td>8.0</td>\n",
       "    </tr>\n",
       "    <tr>\n",
       "      <th>1</th>\n",
       "      <td>1</td>\n",
       "      <td>505942</td>\n",
       "      <td>Aaron Appindangoye</td>\n",
       "      <td>1992-02-29</td>\n",
       "      <td>182.88</td>\n",
       "      <td>187</td>\n",
       "      <td>2015-11-19</td>\n",
       "      <td>67.0</td>\n",
       "      <td>71.0</td>\n",
       "      <td>right</td>\n",
       "      <td>...</td>\n",
       "      <td>54.0</td>\n",
       "      <td>48.0</td>\n",
       "      <td>65.0</td>\n",
       "      <td>69.0</td>\n",
       "      <td>69.0</td>\n",
       "      <td>6.0</td>\n",
       "      <td>11.0</td>\n",
       "      <td>10.0</td>\n",
       "      <td>8.0</td>\n",
       "      <td>8.0</td>\n",
       "    </tr>\n",
       "    <tr>\n",
       "      <th>2</th>\n",
       "      <td>1</td>\n",
       "      <td>505942</td>\n",
       "      <td>Aaron Appindangoye</td>\n",
       "      <td>1992-02-29</td>\n",
       "      <td>182.88</td>\n",
       "      <td>187</td>\n",
       "      <td>2015-09-21</td>\n",
       "      <td>62.0</td>\n",
       "      <td>66.0</td>\n",
       "      <td>right</td>\n",
       "      <td>...</td>\n",
       "      <td>54.0</td>\n",
       "      <td>48.0</td>\n",
       "      <td>65.0</td>\n",
       "      <td>66.0</td>\n",
       "      <td>69.0</td>\n",
       "      <td>6.0</td>\n",
       "      <td>11.0</td>\n",
       "      <td>10.0</td>\n",
       "      <td>8.0</td>\n",
       "      <td>8.0</td>\n",
       "    </tr>\n",
       "    <tr>\n",
       "      <th>3</th>\n",
       "      <td>1</td>\n",
       "      <td>505942</td>\n",
       "      <td>Aaron Appindangoye</td>\n",
       "      <td>1992-02-29</td>\n",
       "      <td>182.88</td>\n",
       "      <td>187</td>\n",
       "      <td>2015-03-20</td>\n",
       "      <td>61.0</td>\n",
       "      <td>65.0</td>\n",
       "      <td>right</td>\n",
       "      <td>...</td>\n",
       "      <td>53.0</td>\n",
       "      <td>47.0</td>\n",
       "      <td>62.0</td>\n",
       "      <td>63.0</td>\n",
       "      <td>66.0</td>\n",
       "      <td>5.0</td>\n",
       "      <td>10.0</td>\n",
       "      <td>9.0</td>\n",
       "      <td>7.0</td>\n",
       "      <td>7.0</td>\n",
       "    </tr>\n",
       "    <tr>\n",
       "      <th>4</th>\n",
       "      <td>1</td>\n",
       "      <td>505942</td>\n",
       "      <td>Aaron Appindangoye</td>\n",
       "      <td>1992-02-29</td>\n",
       "      <td>182.88</td>\n",
       "      <td>187</td>\n",
       "      <td>2007-02-22</td>\n",
       "      <td>61.0</td>\n",
       "      <td>65.0</td>\n",
       "      <td>right</td>\n",
       "      <td>...</td>\n",
       "      <td>53.0</td>\n",
       "      <td>47.0</td>\n",
       "      <td>62.0</td>\n",
       "      <td>63.0</td>\n",
       "      <td>66.0</td>\n",
       "      <td>5.0</td>\n",
       "      <td>10.0</td>\n",
       "      <td>9.0</td>\n",
       "      <td>7.0</td>\n",
       "      <td>7.0</td>\n",
       "    </tr>\n",
       "  </tbody>\n",
       "</table>\n",
       "<p>5 rows × 45 columns</p>\n",
       "</div>"
      ],
      "text/plain": [
       "   id  player_api_id         player_name   birthday  height  weight  \\\n",
       "0   1         505942  Aaron Appindangoye 1992-02-29  182.88     187   \n",
       "1   1         505942  Aaron Appindangoye 1992-02-29  182.88     187   \n",
       "2   1         505942  Aaron Appindangoye 1992-02-29  182.88     187   \n",
       "3   1         505942  Aaron Appindangoye 1992-02-29  182.88     187   \n",
       "4   1         505942  Aaron Appindangoye 1992-02-29  182.88     187   \n",
       "\n",
       "        date  overall_rating  potential preferred_foot     ...      vision  \\\n",
       "0 2016-02-18            67.0       71.0          right     ...        54.0   \n",
       "1 2015-11-19            67.0       71.0          right     ...        54.0   \n",
       "2 2015-09-21            62.0       66.0          right     ...        54.0   \n",
       "3 2015-03-20            61.0       65.0          right     ...        53.0   \n",
       "4 2007-02-22            61.0       65.0          right     ...        53.0   \n",
       "\n",
       "  penalties  marking  standing_tackle  sliding_tackle  gk_diving  gk_handling  \\\n",
       "0      48.0     65.0             69.0            69.0        6.0         11.0   \n",
       "1      48.0     65.0             69.0            69.0        6.0         11.0   \n",
       "2      48.0     65.0             66.0            69.0        6.0         11.0   \n",
       "3      47.0     62.0             63.0            66.0        5.0         10.0   \n",
       "4      47.0     62.0             63.0            66.0        5.0         10.0   \n",
       "\n",
       "   gk_kicking  gk_positioning  gk_reflexes  \n",
       "0        10.0             8.0          8.0  \n",
       "1        10.0             8.0          8.0  \n",
       "2        10.0             8.0          8.0  \n",
       "3         9.0             7.0          7.0  \n",
       "4         9.0             7.0          7.0  \n",
       "\n",
       "[5 rows x 45 columns]"
      ]
     },
     "execution_count": 126,
     "metadata": {},
     "output_type": "execute_result"
    }
   ],
   "source": [
    "#Merging dataframes \n",
    "df_player_ed = df_player.merge(df_player_att, left_on = 'player_api_id', \n",
    "                              right_on = 'player_api_id')\n",
    "\n",
    "df_player_ed.head()"
   ]
  },
  {
   "cell_type": "markdown",
   "metadata": {},
   "source": [
    "Team attributes"
   ]
  },
  {
   "cell_type": "code",
   "execution_count": 127,
   "metadata": {},
   "outputs": [
    {
     "data": {
      "text/plain": [
       "id                                  0\n",
       "team_fifa_api_id                    0\n",
       "team_api_id                         0\n",
       "date                                0\n",
       "buildUpPlaySpeed                    0\n",
       "buildUpPlaySpeedClass               0\n",
       "buildUpPlayDribbling              969\n",
       "buildUpPlayDribblingClass           0\n",
       "buildUpPlayPassing                  0\n",
       "buildUpPlayPassingClass             0\n",
       "buildUpPlayPositioningClass         0\n",
       "chanceCreationPassing               0\n",
       "chanceCreationPassingClass          0\n",
       "chanceCreationCrossing              0\n",
       "chanceCreationCrossingClass         0\n",
       "chanceCreationShooting              0\n",
       "chanceCreationShootingClass         0\n",
       "chanceCreationPositioningClass      0\n",
       "defencePressure                     0\n",
       "defencePressureClass                0\n",
       "defenceAggression                   0\n",
       "defenceAggressionClass              0\n",
       "defenceTeamWidth                    0\n",
       "defenceTeamWidthClass               0\n",
       "defenceDefenderLineClass            0\n",
       "dtype: int64"
      ]
     },
     "execution_count": 127,
     "metadata": {},
     "output_type": "execute_result"
    }
   ],
   "source": [
    "df_team_att.isnull().sum()"
   ]
  },
  {
   "cell_type": "code",
   "execution_count": 128,
   "metadata": {},
   "outputs": [],
   "source": [
    "#dropping column with the null values and team_fifa_api_id column\n",
    "df_team_att.drop(columns= ['buildUpPlayDribbling','team_fifa_api_id'],\n",
    "                 inplace = True)"
   ]
  },
  {
   "cell_type": "code",
   "execution_count": 129,
   "metadata": {},
   "outputs": [],
   "source": [
    "#changing the date column data type\n",
    "\n",
    "\n",
    "df_team_att.date = pd.to_datetime(df_team_att.date)"
   ]
  },
  {
   "cell_type": "markdown",
   "metadata": {},
   "source": [
    "Merge Team and Team Attributes dataframe \n",
    "\n",
    "The new dataframe should be named `df_team_ed`"
   ]
  },
  {
   "cell_type": "code",
   "execution_count": 130,
   "metadata": {},
   "outputs": [
    {
     "data": {
      "text/html": [
       "<div>\n",
       "<style scoped>\n",
       "    .dataframe tbody tr th:only-of-type {\n",
       "        vertical-align: middle;\n",
       "    }\n",
       "\n",
       "    .dataframe tbody tr th {\n",
       "        vertical-align: top;\n",
       "    }\n",
       "\n",
       "    .dataframe thead th {\n",
       "        text-align: right;\n",
       "    }\n",
       "</style>\n",
       "<table border=\"1\" class=\"dataframe\">\n",
       "  <thead>\n",
       "    <tr style=\"text-align: right;\">\n",
       "      <th></th>\n",
       "      <th>id_x</th>\n",
       "      <th>team_api_id</th>\n",
       "      <th>team_name</th>\n",
       "      <th>team_short_name</th>\n",
       "      <th>id_y</th>\n",
       "      <th>date</th>\n",
       "      <th>buildUpPlaySpeed</th>\n",
       "      <th>buildUpPlaySpeedClass</th>\n",
       "      <th>buildUpPlayDribblingClass</th>\n",
       "      <th>buildUpPlayPassing</th>\n",
       "      <th>...</th>\n",
       "      <th>chanceCreationShooting</th>\n",
       "      <th>chanceCreationShootingClass</th>\n",
       "      <th>chanceCreationPositioningClass</th>\n",
       "      <th>defencePressure</th>\n",
       "      <th>defencePressureClass</th>\n",
       "      <th>defenceAggression</th>\n",
       "      <th>defenceAggressionClass</th>\n",
       "      <th>defenceTeamWidth</th>\n",
       "      <th>defenceTeamWidthClass</th>\n",
       "      <th>defenceDefenderLineClass</th>\n",
       "    </tr>\n",
       "  </thead>\n",
       "  <tbody>\n",
       "    <tr>\n",
       "      <th>0</th>\n",
       "      <td>1</td>\n",
       "      <td>9987</td>\n",
       "      <td>KRC Genk</td>\n",
       "      <td>GEN</td>\n",
       "      <td>485</td>\n",
       "      <td>2010-02-22</td>\n",
       "      <td>45</td>\n",
       "      <td>Balanced</td>\n",
       "      <td>Little</td>\n",
       "      <td>45</td>\n",
       "      <td>...</td>\n",
       "      <td>60</td>\n",
       "      <td>Normal</td>\n",
       "      <td>Organised</td>\n",
       "      <td>70</td>\n",
       "      <td>High</td>\n",
       "      <td>65</td>\n",
       "      <td>Press</td>\n",
       "      <td>70</td>\n",
       "      <td>Wide</td>\n",
       "      <td>Cover</td>\n",
       "    </tr>\n",
       "    <tr>\n",
       "      <th>1</th>\n",
       "      <td>1</td>\n",
       "      <td>9987</td>\n",
       "      <td>KRC Genk</td>\n",
       "      <td>GEN</td>\n",
       "      <td>486</td>\n",
       "      <td>2011-02-22</td>\n",
       "      <td>66</td>\n",
       "      <td>Balanced</td>\n",
       "      <td>Little</td>\n",
       "      <td>52</td>\n",
       "      <td>...</td>\n",
       "      <td>51</td>\n",
       "      <td>Normal</td>\n",
       "      <td>Organised</td>\n",
       "      <td>48</td>\n",
       "      <td>Medium</td>\n",
       "      <td>47</td>\n",
       "      <td>Press</td>\n",
       "      <td>54</td>\n",
       "      <td>Normal</td>\n",
       "      <td>Offside Trap</td>\n",
       "    </tr>\n",
       "    <tr>\n",
       "      <th>2</th>\n",
       "      <td>1</td>\n",
       "      <td>9987</td>\n",
       "      <td>KRC Genk</td>\n",
       "      <td>GEN</td>\n",
       "      <td>487</td>\n",
       "      <td>2012-02-22</td>\n",
       "      <td>53</td>\n",
       "      <td>Balanced</td>\n",
       "      <td>Little</td>\n",
       "      <td>55</td>\n",
       "      <td>...</td>\n",
       "      <td>56</td>\n",
       "      <td>Normal</td>\n",
       "      <td>Organised</td>\n",
       "      <td>47</td>\n",
       "      <td>Medium</td>\n",
       "      <td>45</td>\n",
       "      <td>Press</td>\n",
       "      <td>55</td>\n",
       "      <td>Normal</td>\n",
       "      <td>Cover</td>\n",
       "    </tr>\n",
       "    <tr>\n",
       "      <th>3</th>\n",
       "      <td>1</td>\n",
       "      <td>9987</td>\n",
       "      <td>KRC Genk</td>\n",
       "      <td>GEN</td>\n",
       "      <td>488</td>\n",
       "      <td>2013-09-20</td>\n",
       "      <td>58</td>\n",
       "      <td>Balanced</td>\n",
       "      <td>Little</td>\n",
       "      <td>38</td>\n",
       "      <td>...</td>\n",
       "      <td>56</td>\n",
       "      <td>Normal</td>\n",
       "      <td>Organised</td>\n",
       "      <td>47</td>\n",
       "      <td>Medium</td>\n",
       "      <td>45</td>\n",
       "      <td>Press</td>\n",
       "      <td>55</td>\n",
       "      <td>Normal</td>\n",
       "      <td>Cover</td>\n",
       "    </tr>\n",
       "    <tr>\n",
       "      <th>4</th>\n",
       "      <td>1</td>\n",
       "      <td>9987</td>\n",
       "      <td>KRC Genk</td>\n",
       "      <td>GEN</td>\n",
       "      <td>489</td>\n",
       "      <td>2014-09-19</td>\n",
       "      <td>58</td>\n",
       "      <td>Balanced</td>\n",
       "      <td>Normal</td>\n",
       "      <td>38</td>\n",
       "      <td>...</td>\n",
       "      <td>56</td>\n",
       "      <td>Normal</td>\n",
       "      <td>Organised</td>\n",
       "      <td>47</td>\n",
       "      <td>Medium</td>\n",
       "      <td>45</td>\n",
       "      <td>Press</td>\n",
       "      <td>55</td>\n",
       "      <td>Normal</td>\n",
       "      <td>Cover</td>\n",
       "    </tr>\n",
       "  </tbody>\n",
       "</table>\n",
       "<p>5 rows × 26 columns</p>\n",
       "</div>"
      ],
      "text/plain": [
       "   id_x  team_api_id team_name team_short_name  id_y       date  \\\n",
       "0     1         9987  KRC Genk             GEN   485 2010-02-22   \n",
       "1     1         9987  KRC Genk             GEN   486 2011-02-22   \n",
       "2     1         9987  KRC Genk             GEN   487 2012-02-22   \n",
       "3     1         9987  KRC Genk             GEN   488 2013-09-20   \n",
       "4     1         9987  KRC Genk             GEN   489 2014-09-19   \n",
       "\n",
       "   buildUpPlaySpeed buildUpPlaySpeedClass buildUpPlayDribblingClass  \\\n",
       "0                45              Balanced                    Little   \n",
       "1                66              Balanced                    Little   \n",
       "2                53              Balanced                    Little   \n",
       "3                58              Balanced                    Little   \n",
       "4                58              Balanced                    Normal   \n",
       "\n",
       "   buildUpPlayPassing            ...            chanceCreationShooting  \\\n",
       "0                  45            ...                                60   \n",
       "1                  52            ...                                51   \n",
       "2                  55            ...                                56   \n",
       "3                  38            ...                                56   \n",
       "4                  38            ...                                56   \n",
       "\n",
       "  chanceCreationShootingClass  chanceCreationPositioningClass defencePressure  \\\n",
       "0                      Normal                       Organised              70   \n",
       "1                      Normal                       Organised              48   \n",
       "2                      Normal                       Organised              47   \n",
       "3                      Normal                       Organised              47   \n",
       "4                      Normal                       Organised              47   \n",
       "\n",
       "   defencePressureClass defenceAggression  defenceAggressionClass  \\\n",
       "0                  High                65                   Press   \n",
       "1                Medium                47                   Press   \n",
       "2                Medium                45                   Press   \n",
       "3                Medium                45                   Press   \n",
       "4                Medium                45                   Press   \n",
       "\n",
       "  defenceTeamWidth defenceTeamWidthClass  defenceDefenderLineClass  \n",
       "0               70                  Wide                     Cover  \n",
       "1               54                Normal              Offside Trap  \n",
       "2               55                Normal                     Cover  \n",
       "3               55                Normal                     Cover  \n",
       "4               55                Normal                     Cover  \n",
       "\n",
       "[5 rows x 26 columns]"
      ]
     },
     "execution_count": 130,
     "metadata": {},
     "output_type": "execute_result"
    }
   ],
   "source": [
    "#Merging dataframes \n",
    "df_team_ed = df_team.merge(df_team_att, left_on = 'team_api_id', \n",
    "                              right_on = 'team_api_id')\n",
    "\n",
    "df_team_ed.head()"
   ]
  },
  {
   "cell_type": "code",
   "execution_count": 131,
   "metadata": {},
   "outputs": [],
   "source": [
    "#dropping columns that are not needed\n",
    "\n",
    "df_team_ed.drop(columns= ['id_x','id_y', 'team_short_name'],\n",
    "                 inplace = True)"
   ]
  },
  {
   "cell_type": "code",
   "execution_count": 132,
   "metadata": {},
   "outputs": [
    {
     "data": {
      "text/html": [
       "<div>\n",
       "<style scoped>\n",
       "    .dataframe tbody tr th:only-of-type {\n",
       "        vertical-align: middle;\n",
       "    }\n",
       "\n",
       "    .dataframe tbody tr th {\n",
       "        vertical-align: top;\n",
       "    }\n",
       "\n",
       "    .dataframe thead th {\n",
       "        text-align: right;\n",
       "    }\n",
       "</style>\n",
       "<table border=\"1\" class=\"dataframe\">\n",
       "  <thead>\n",
       "    <tr style=\"text-align: right;\">\n",
       "      <th></th>\n",
       "      <th>team_api_id</th>\n",
       "      <th>team_name</th>\n",
       "      <th>date</th>\n",
       "      <th>buildUpPlaySpeed</th>\n",
       "      <th>buildUpPlaySpeedClass</th>\n",
       "      <th>buildUpPlayDribblingClass</th>\n",
       "      <th>buildUpPlayPassing</th>\n",
       "      <th>buildUpPlayPassingClass</th>\n",
       "      <th>buildUpPlayPositioningClass</th>\n",
       "      <th>chanceCreationPassing</th>\n",
       "      <th>...</th>\n",
       "      <th>chanceCreationShooting</th>\n",
       "      <th>chanceCreationShootingClass</th>\n",
       "      <th>chanceCreationPositioningClass</th>\n",
       "      <th>defencePressure</th>\n",
       "      <th>defencePressureClass</th>\n",
       "      <th>defenceAggression</th>\n",
       "      <th>defenceAggressionClass</th>\n",
       "      <th>defenceTeamWidth</th>\n",
       "      <th>defenceTeamWidthClass</th>\n",
       "      <th>defenceDefenderLineClass</th>\n",
       "    </tr>\n",
       "  </thead>\n",
       "  <tbody>\n",
       "    <tr>\n",
       "      <th>0</th>\n",
       "      <td>9987</td>\n",
       "      <td>KRC Genk</td>\n",
       "      <td>2010-02-22</td>\n",
       "      <td>45</td>\n",
       "      <td>Balanced</td>\n",
       "      <td>Little</td>\n",
       "      <td>45</td>\n",
       "      <td>Mixed</td>\n",
       "      <td>Organised</td>\n",
       "      <td>50</td>\n",
       "      <td>...</td>\n",
       "      <td>60</td>\n",
       "      <td>Normal</td>\n",
       "      <td>Organised</td>\n",
       "      <td>70</td>\n",
       "      <td>High</td>\n",
       "      <td>65</td>\n",
       "      <td>Press</td>\n",
       "      <td>70</td>\n",
       "      <td>Wide</td>\n",
       "      <td>Cover</td>\n",
       "    </tr>\n",
       "    <tr>\n",
       "      <th>1</th>\n",
       "      <td>9987</td>\n",
       "      <td>KRC Genk</td>\n",
       "      <td>2011-02-22</td>\n",
       "      <td>66</td>\n",
       "      <td>Balanced</td>\n",
       "      <td>Little</td>\n",
       "      <td>52</td>\n",
       "      <td>Mixed</td>\n",
       "      <td>Organised</td>\n",
       "      <td>65</td>\n",
       "      <td>...</td>\n",
       "      <td>51</td>\n",
       "      <td>Normal</td>\n",
       "      <td>Organised</td>\n",
       "      <td>48</td>\n",
       "      <td>Medium</td>\n",
       "      <td>47</td>\n",
       "      <td>Press</td>\n",
       "      <td>54</td>\n",
       "      <td>Normal</td>\n",
       "      <td>Offside Trap</td>\n",
       "    </tr>\n",
       "    <tr>\n",
       "      <th>2</th>\n",
       "      <td>9987</td>\n",
       "      <td>KRC Genk</td>\n",
       "      <td>2012-02-22</td>\n",
       "      <td>53</td>\n",
       "      <td>Balanced</td>\n",
       "      <td>Little</td>\n",
       "      <td>55</td>\n",
       "      <td>Mixed</td>\n",
       "      <td>Organised</td>\n",
       "      <td>55</td>\n",
       "      <td>...</td>\n",
       "      <td>56</td>\n",
       "      <td>Normal</td>\n",
       "      <td>Organised</td>\n",
       "      <td>47</td>\n",
       "      <td>Medium</td>\n",
       "      <td>45</td>\n",
       "      <td>Press</td>\n",
       "      <td>55</td>\n",
       "      <td>Normal</td>\n",
       "      <td>Cover</td>\n",
       "    </tr>\n",
       "    <tr>\n",
       "      <th>3</th>\n",
       "      <td>9987</td>\n",
       "      <td>KRC Genk</td>\n",
       "      <td>2013-09-20</td>\n",
       "      <td>58</td>\n",
       "      <td>Balanced</td>\n",
       "      <td>Little</td>\n",
       "      <td>38</td>\n",
       "      <td>Mixed</td>\n",
       "      <td>Organised</td>\n",
       "      <td>67</td>\n",
       "      <td>...</td>\n",
       "      <td>56</td>\n",
       "      <td>Normal</td>\n",
       "      <td>Organised</td>\n",
       "      <td>47</td>\n",
       "      <td>Medium</td>\n",
       "      <td>45</td>\n",
       "      <td>Press</td>\n",
       "      <td>55</td>\n",
       "      <td>Normal</td>\n",
       "      <td>Cover</td>\n",
       "    </tr>\n",
       "    <tr>\n",
       "      <th>4</th>\n",
       "      <td>9987</td>\n",
       "      <td>KRC Genk</td>\n",
       "      <td>2014-09-19</td>\n",
       "      <td>58</td>\n",
       "      <td>Balanced</td>\n",
       "      <td>Normal</td>\n",
       "      <td>38</td>\n",
       "      <td>Mixed</td>\n",
       "      <td>Organised</td>\n",
       "      <td>67</td>\n",
       "      <td>...</td>\n",
       "      <td>56</td>\n",
       "      <td>Normal</td>\n",
       "      <td>Organised</td>\n",
       "      <td>47</td>\n",
       "      <td>Medium</td>\n",
       "      <td>45</td>\n",
       "      <td>Press</td>\n",
       "      <td>55</td>\n",
       "      <td>Normal</td>\n",
       "      <td>Cover</td>\n",
       "    </tr>\n",
       "  </tbody>\n",
       "</table>\n",
       "<p>5 rows × 23 columns</p>\n",
       "</div>"
      ],
      "text/plain": [
       "   team_api_id team_name       date  buildUpPlaySpeed buildUpPlaySpeedClass  \\\n",
       "0         9987  KRC Genk 2010-02-22                45              Balanced   \n",
       "1         9987  KRC Genk 2011-02-22                66              Balanced   \n",
       "2         9987  KRC Genk 2012-02-22                53              Balanced   \n",
       "3         9987  KRC Genk 2013-09-20                58              Balanced   \n",
       "4         9987  KRC Genk 2014-09-19                58              Balanced   \n",
       "\n",
       "  buildUpPlayDribblingClass  buildUpPlayPassing buildUpPlayPassingClass  \\\n",
       "0                    Little                  45                   Mixed   \n",
       "1                    Little                  52                   Mixed   \n",
       "2                    Little                  55                   Mixed   \n",
       "3                    Little                  38                   Mixed   \n",
       "4                    Normal                  38                   Mixed   \n",
       "\n",
       "  buildUpPlayPositioningClass  chanceCreationPassing           ...             \\\n",
       "0                   Organised                     50           ...              \n",
       "1                   Organised                     65           ...              \n",
       "2                   Organised                     55           ...              \n",
       "3                   Organised                     67           ...              \n",
       "4                   Organised                     67           ...              \n",
       "\n",
       "  chanceCreationShooting  chanceCreationShootingClass  \\\n",
       "0                     60                       Normal   \n",
       "1                     51                       Normal   \n",
       "2                     56                       Normal   \n",
       "3                     56                       Normal   \n",
       "4                     56                       Normal   \n",
       "\n",
       "  chanceCreationPositioningClass  defencePressure defencePressureClass  \\\n",
       "0                      Organised               70                 High   \n",
       "1                      Organised               48               Medium   \n",
       "2                      Organised               47               Medium   \n",
       "3                      Organised               47               Medium   \n",
       "4                      Organised               47               Medium   \n",
       "\n",
       "  defenceAggression  defenceAggressionClass defenceTeamWidth  \\\n",
       "0                65                   Press               70   \n",
       "1                47                   Press               54   \n",
       "2                45                   Press               55   \n",
       "3                45                   Press               55   \n",
       "4                45                   Press               55   \n",
       "\n",
       "   defenceTeamWidthClass defenceDefenderLineClass  \n",
       "0                   Wide                    Cover  \n",
       "1                 Normal             Offside Trap  \n",
       "2                 Normal                    Cover  \n",
       "3                 Normal                    Cover  \n",
       "4                 Normal                    Cover  \n",
       "\n",
       "[5 rows x 23 columns]"
      ]
     },
     "execution_count": 132,
     "metadata": {},
     "output_type": "execute_result"
    }
   ],
   "source": [
    "df_team_ed.head()"
   ]
  },
  {
   "cell_type": "code",
   "execution_count": null,
   "metadata": {},
   "outputs": [],
   "source": []
  },
  {
   "cell_type": "markdown",
   "metadata": {},
   "source": [
    "<a id='eda'></a>\n",
    "## Exploratory Data Analysis\n",
    "\n",
    "\n",
    "\n",
    "###  1. Who were the top 5 best players before 2013?  \n"
   ]
  },
  {
   "cell_type": "code",
   "execution_count": 133,
   "metadata": {
    "scrolled": true
   },
   "outputs": [
    {
     "data": {
      "text/html": [
       "<div>\n",
       "<style scoped>\n",
       "    .dataframe tbody tr th:only-of-type {\n",
       "        vertical-align: middle;\n",
       "    }\n",
       "\n",
       "    .dataframe tbody tr th {\n",
       "        vertical-align: top;\n",
       "    }\n",
       "\n",
       "    .dataframe thead th {\n",
       "        text-align: right;\n",
       "    }\n",
       "</style>\n",
       "<table border=\"1\" class=\"dataframe\">\n",
       "  <thead>\n",
       "    <tr style=\"text-align: right;\">\n",
       "      <th></th>\n",
       "      <th>id</th>\n",
       "      <th>player_api_id</th>\n",
       "      <th>player_name</th>\n",
       "      <th>birthday</th>\n",
       "      <th>height</th>\n",
       "      <th>weight</th>\n",
       "      <th>date</th>\n",
       "      <th>overall_rating</th>\n",
       "      <th>potential</th>\n",
       "      <th>preferred_foot</th>\n",
       "      <th>...</th>\n",
       "      <th>vision</th>\n",
       "      <th>penalties</th>\n",
       "      <th>marking</th>\n",
       "      <th>standing_tackle</th>\n",
       "      <th>sliding_tackle</th>\n",
       "      <th>gk_diving</th>\n",
       "      <th>gk_handling</th>\n",
       "      <th>gk_kicking</th>\n",
       "      <th>gk_positioning</th>\n",
       "      <th>gk_reflexes</th>\n",
       "    </tr>\n",
       "  </thead>\n",
       "  <tbody>\n",
       "    <tr>\n",
       "      <th>114667</th>\n",
       "      <td>7019</td>\n",
       "      <td>292461</td>\n",
       "      <td>Marwan Mohsen</td>\n",
       "      <td>1989-02-25</td>\n",
       "      <td>187.96</td>\n",
       "      <td>181</td>\n",
       "      <td>2012-08-31</td>\n",
       "      <td>64.0</td>\n",
       "      <td>70.0</td>\n",
       "      <td>right</td>\n",
       "      <td>...</td>\n",
       "      <td>49.0</td>\n",
       "      <td>67.0</td>\n",
       "      <td>17.0</td>\n",
       "      <td>17.0</td>\n",
       "      <td>16.0</td>\n",
       "      <td>11.0</td>\n",
       "      <td>11.0</td>\n",
       "      <td>10.0</td>\n",
       "      <td>14.0</td>\n",
       "      <td>12.0</td>\n",
       "    </tr>\n",
       "    <tr>\n",
       "      <th>31186</th>\n",
       "      <td>1908</td>\n",
       "      <td>169721</td>\n",
       "      <td>Connor Wickham</td>\n",
       "      <td>1993-03-31</td>\n",
       "      <td>187.96</td>\n",
       "      <td>198</td>\n",
       "      <td>2012-08-31</td>\n",
       "      <td>69.0</td>\n",
       "      <td>83.0</td>\n",
       "      <td>right</td>\n",
       "      <td>...</td>\n",
       "      <td>47.0</td>\n",
       "      <td>74.0</td>\n",
       "      <td>14.0</td>\n",
       "      <td>22.0</td>\n",
       "      <td>17.0</td>\n",
       "      <td>7.0</td>\n",
       "      <td>15.0</td>\n",
       "      <td>5.0</td>\n",
       "      <td>9.0</td>\n",
       "      <td>11.0</td>\n",
       "    </tr>\n",
       "    <tr>\n",
       "      <th>59433</th>\n",
       "      <td>3634</td>\n",
       "      <td>212416</td>\n",
       "      <td>Gael Bigirimana</td>\n",
       "      <td>1993-10-22</td>\n",
       "      <td>177.80</td>\n",
       "      <td>163</td>\n",
       "      <td>2012-08-31</td>\n",
       "      <td>60.0</td>\n",
       "      <td>76.0</td>\n",
       "      <td>right</td>\n",
       "      <td>...</td>\n",
       "      <td>69.0</td>\n",
       "      <td>42.0</td>\n",
       "      <td>40.0</td>\n",
       "      <td>54.0</td>\n",
       "      <td>52.0</td>\n",
       "      <td>6.0</td>\n",
       "      <td>14.0</td>\n",
       "      <td>9.0</td>\n",
       "      <td>11.0</td>\n",
       "      <td>11.0</td>\n",
       "    </tr>\n",
       "    <tr>\n",
       "      <th>161475</th>\n",
       "      <td>9893</td>\n",
       "      <td>278848</td>\n",
       "      <td>Stanley Elbers</td>\n",
       "      <td>1992-05-14</td>\n",
       "      <td>172.72</td>\n",
       "      <td>150</td>\n",
       "      <td>2012-08-31</td>\n",
       "      <td>63.0</td>\n",
       "      <td>72.0</td>\n",
       "      <td>left</td>\n",
       "      <td>...</td>\n",
       "      <td>53.0</td>\n",
       "      <td>46.0</td>\n",
       "      <td>26.0</td>\n",
       "      <td>29.0</td>\n",
       "      <td>24.0</td>\n",
       "      <td>11.0</td>\n",
       "      <td>6.0</td>\n",
       "      <td>13.0</td>\n",
       "      <td>11.0</td>\n",
       "      <td>13.0</td>\n",
       "    </tr>\n",
       "    <tr>\n",
       "      <th>125364</th>\n",
       "      <td>7650</td>\n",
       "      <td>128455</td>\n",
       "      <td>Mohamed Coulibaly</td>\n",
       "      <td>1988-08-07</td>\n",
       "      <td>177.80</td>\n",
       "      <td>154</td>\n",
       "      <td>2012-08-31</td>\n",
       "      <td>56.0</td>\n",
       "      <td>60.0</td>\n",
       "      <td>right</td>\n",
       "      <td>...</td>\n",
       "      <td>36.0</td>\n",
       "      <td>51.0</td>\n",
       "      <td>24.0</td>\n",
       "      <td>33.0</td>\n",
       "      <td>31.0</td>\n",
       "      <td>9.0</td>\n",
       "      <td>10.0</td>\n",
       "      <td>11.0</td>\n",
       "      <td>5.0</td>\n",
       "      <td>11.0</td>\n",
       "    </tr>\n",
       "  </tbody>\n",
       "</table>\n",
       "<p>5 rows × 45 columns</p>\n",
       "</div>"
      ],
      "text/plain": [
       "          id  player_api_id        player_name   birthday  height  weight  \\\n",
       "114667  7019         292461      Marwan Mohsen 1989-02-25  187.96     181   \n",
       "31186   1908         169721     Connor Wickham 1993-03-31  187.96     198   \n",
       "59433   3634         212416    Gael Bigirimana 1993-10-22  177.80     163   \n",
       "161475  9893         278848     Stanley Elbers 1992-05-14  172.72     150   \n",
       "125364  7650         128455  Mohamed Coulibaly 1988-08-07  177.80     154   \n",
       "\n",
       "             date  overall_rating  potential preferred_foot     ...       \\\n",
       "114667 2012-08-31            64.0       70.0          right     ...        \n",
       "31186  2012-08-31            69.0       83.0          right     ...        \n",
       "59433  2012-08-31            60.0       76.0          right     ...        \n",
       "161475 2012-08-31            63.0       72.0           left     ...        \n",
       "125364 2012-08-31            56.0       60.0          right     ...        \n",
       "\n",
       "       vision penalties  marking  standing_tackle  sliding_tackle  gk_diving  \\\n",
       "114667   49.0      67.0     17.0             17.0            16.0       11.0   \n",
       "31186    47.0      74.0     14.0             22.0            17.0        7.0   \n",
       "59433    69.0      42.0     40.0             54.0            52.0        6.0   \n",
       "161475   53.0      46.0     26.0             29.0            24.0       11.0   \n",
       "125364   36.0      51.0     24.0             33.0            31.0        9.0   \n",
       "\n",
       "        gk_handling  gk_kicking  gk_positioning  gk_reflexes  \n",
       "114667         11.0        10.0            14.0         12.0  \n",
       "31186          15.0         5.0             9.0         11.0  \n",
       "59433          14.0         9.0            11.0         11.0  \n",
       "161475          6.0        13.0            11.0         13.0  \n",
       "125364         10.0        11.0             5.0         11.0  \n",
       "\n",
       "[5 rows x 45 columns]"
      ]
     },
     "execution_count": 133,
     "metadata": {},
     "output_type": "execute_result"
    }
   ],
   "source": [
    "#sorting matxh dataframe by date in ascending order\n",
    "df_player_ed = df_player_ed.sort_values('date', ascending= True)\n",
    "\n",
    "#creating new table from 2010 to 2016 \n",
    "df_2013 = df_player_ed.query('date < \"2013-01-01\"')\n",
    "\n",
    "df_2013.tail()"
   ]
  },
  {
   "cell_type": "code",
   "execution_count": 134,
   "metadata": {},
   "outputs": [
    {
     "data": {
      "text/plain": [
       "player_name\n",
       "Lionel Messi         90\n",
       "Cristiano Ronaldo    90\n",
       "Iker Casillas        89\n",
       "Wayne Rooney         89\n",
       "Gianluigi Buffon     88\n",
       "Name: overall_rating, dtype: int64"
      ]
     },
     "execution_count": 134,
     "metadata": {},
     "output_type": "execute_result"
    }
   ],
   "source": [
    "#Top 5 best overall Rated Players before 2013\n",
    "be4_2013 = df_2013.groupby('player_name')['overall_rating'].mean(\n",
    "                ).sort_values(ascending= False).astype('int')[0:5];\n",
    "\n",
    "be4_2013"
   ]
  },
  {
   "cell_type": "code",
   "execution_count": 135,
   "metadata": {},
   "outputs": [
    {
     "data": {
      "image/png": "[encoded data removed]",
      "text/plain": [
       "<matplotlib.figure.Figure at 0x7fdb9809a518>"
      ]
     },
     "metadata": {
      "needs_background": "light"
     },
     "output_type": "display_data"
    }
   ],
   "source": [
    "#Plotting the above results\n",
    "plt.figure(figsize=(9,5))\n",
    "be4_2013.plot(kind = ('bar'), color=['teal', 'navy', \n",
    "    'wheat', 'hotpink', 'peru'],edgecolor = 'black',  width=0.45, alpha = 0.7)\n",
    "sns.set_style(\"whitegrid\")\n",
    "\n",
    "#Titles and labels\n",
    "plt.title('Top 5 Best Rated Players Before 2013', fontsize = 16)\n",
    "plt.xlabel('Players', fontsize = 16)\n",
    "plt.xticks(rotation= 0)\n",
    "plt.ylabel('Average Overall Ratings', fontsize = 16);\n",
    "plt.show()"
   ]
  },
  {
   "cell_type": "markdown",
   "metadata": {},
   "source": [
    ">The result shows the top 5 best players in European League before the year 2013. **Cristiano Ronaldo** and **Lionel Messi** led this table having the same average rating during this time frame."
   ]
  },
  {
   "cell_type": "markdown",
   "metadata": {},
   "source": [
    "### 2. What are the attributes of the lowest overall rated player?\n"
   ]
  },
  {
   "cell_type": "code",
   "execution_count": 136,
   "metadata": {},
   "outputs": [
    {
     "data": {
      "text/plain": [
       "33.0"
      ]
     },
     "execution_count": 136,
     "metadata": {},
     "output_type": "execute_result"
    }
   ],
   "source": [
    "df_player_ed.min().overall_rating"
   ]
  },
  {
   "cell_type": "code",
   "execution_count": 137,
   "metadata": {
    "scrolled": true
   },
   "outputs": [
    {
     "data": {
      "text/html": [
       "<div>\n",
       "<style scoped>\n",
       "    .dataframe tbody tr th:only-of-type {\n",
       "        vertical-align: middle;\n",
       "    }\n",
       "\n",
       "    .dataframe tbody tr th {\n",
       "        vertical-align: top;\n",
       "    }\n",
       "\n",
       "    .dataframe thead th {\n",
       "        text-align: right;\n",
       "    }\n",
       "</style>\n",
       "<table border=\"1\" class=\"dataframe\">\n",
       "  <thead>\n",
       "    <tr style=\"text-align: right;\">\n",
       "      <th></th>\n",
       "      <th>id</th>\n",
       "      <th>player_api_id</th>\n",
       "      <th>player_name</th>\n",
       "      <th>birthday</th>\n",
       "      <th>height</th>\n",
       "      <th>weight</th>\n",
       "      <th>date</th>\n",
       "      <th>overall_rating</th>\n",
       "      <th>potential</th>\n",
       "      <th>preferred_foot</th>\n",
       "      <th>...</th>\n",
       "      <th>vision</th>\n",
       "      <th>penalties</th>\n",
       "      <th>marking</th>\n",
       "      <th>standing_tackle</th>\n",
       "      <th>sliding_tackle</th>\n",
       "      <th>gk_diving</th>\n",
       "      <th>gk_handling</th>\n",
       "      <th>gk_kicking</th>\n",
       "      <th>gk_positioning</th>\n",
       "      <th>gk_reflexes</th>\n",
       "    </tr>\n",
       "  </thead>\n",
       "  <tbody>\n",
       "    <tr>\n",
       "      <th>56661</th>\n",
       "      <td>3464</td>\n",
       "      <td>41841</td>\n",
       "      <td>Francesco Della Rocca</td>\n",
       "      <td>1987-09-14</td>\n",
       "      <td>182.88</td>\n",
       "      <td>161</td>\n",
       "      <td>2007-02-22</td>\n",
       "      <td>33.0</td>\n",
       "      <td>53.0</td>\n",
       "      <td>right</td>\n",
       "      <td>...</td>\n",
       "      <td>49.0</td>\n",
       "      <td>30.0</td>\n",
       "      <td>20.0</td>\n",
       "      <td>23.0</td>\n",
       "      <td>22.0</td>\n",
       "      <td>4.0</td>\n",
       "      <td>20.0</td>\n",
       "      <td>28.0</td>\n",
       "      <td>20.0</td>\n",
       "      <td>20.0</td>\n",
       "    </tr>\n",
       "    <tr>\n",
       "      <th>56660</th>\n",
       "      <td>3464</td>\n",
       "      <td>41841</td>\n",
       "      <td>Francesco Della Rocca</td>\n",
       "      <td>1987-09-14</td>\n",
       "      <td>182.88</td>\n",
       "      <td>161</td>\n",
       "      <td>2007-08-30</td>\n",
       "      <td>33.0</td>\n",
       "      <td>53.0</td>\n",
       "      <td>right</td>\n",
       "      <td>...</td>\n",
       "      <td>49.0</td>\n",
       "      <td>30.0</td>\n",
       "      <td>20.0</td>\n",
       "      <td>23.0</td>\n",
       "      <td>22.0</td>\n",
       "      <td>4.0</td>\n",
       "      <td>20.0</td>\n",
       "      <td>28.0</td>\n",
       "      <td>20.0</td>\n",
       "      <td>20.0</td>\n",
       "    </tr>\n",
       "  </tbody>\n",
       "</table>\n",
       "<p>2 rows × 45 columns</p>\n",
       "</div>"
      ],
      "text/plain": [
       "         id  player_api_id            player_name   birthday  height  weight  \\\n",
       "56661  3464          41841  Francesco Della Rocca 1987-09-14  182.88     161   \n",
       "56660  3464          41841  Francesco Della Rocca 1987-09-14  182.88     161   \n",
       "\n",
       "            date  overall_rating  potential preferred_foot     ...       \\\n",
       "56661 2007-02-22            33.0       53.0          right     ...        \n",
       "56660 2007-08-30            33.0       53.0          right     ...        \n",
       "\n",
       "      vision penalties  marking  standing_tackle  sliding_tackle  gk_diving  \\\n",
       "56661   49.0      30.0     20.0             23.0            22.0        4.0   \n",
       "56660   49.0      30.0     20.0             23.0            22.0        4.0   \n",
       "\n",
       "       gk_handling  gk_kicking  gk_positioning  gk_reflexes  \n",
       "56661         20.0        28.0            20.0         20.0  \n",
       "56660         20.0        28.0            20.0         20.0  \n",
       "\n",
       "[2 rows x 45 columns]"
      ]
     },
     "execution_count": 137,
     "metadata": {},
     "output_type": "execute_result"
    }
   ],
   "source": [
    "df_player_ed.query('overall_rating == 33.0')"
   ]
  },
  {
   "cell_type": "markdown",
   "metadata": {},
   "source": [
    "We have two rows with the same values. we have to drop one\n"
   ]
  },
  {
   "cell_type": "code",
   "execution_count": 138,
   "metadata": {},
   "outputs": [],
   "source": [
    "df_player_ed.drop(index=56660, inplace = True);"
   ]
  },
  {
   "cell_type": "code",
   "execution_count": 139,
   "metadata": {},
   "outputs": [],
   "source": [
    "df_min = df_player_ed.query('overall_rating == 33.0')"
   ]
  },
  {
   "cell_type": "code",
   "execution_count": 140,
   "metadata": {},
   "outputs": [
    {
     "data": {
      "text/html": [
       "<div>\n",
       "<style scoped>\n",
       "    .dataframe tbody tr th:only-of-type {\n",
       "        vertical-align: middle;\n",
       "    }\n",
       "\n",
       "    .dataframe tbody tr th {\n",
       "        vertical-align: top;\n",
       "    }\n",
       "\n",
       "    .dataframe thead th {\n",
       "        text-align: right;\n",
       "    }\n",
       "</style>\n",
       "<table border=\"1\" class=\"dataframe\">\n",
       "  <thead>\n",
       "    <tr style=\"text-align: right;\">\n",
       "      <th></th>\n",
       "      <th>id</th>\n",
       "      <th>player_api_id</th>\n",
       "      <th>player_name</th>\n",
       "      <th>birthday</th>\n",
       "      <th>height</th>\n",
       "      <th>weight</th>\n",
       "      <th>date</th>\n",
       "      <th>overall_rating</th>\n",
       "      <th>potential</th>\n",
       "      <th>preferred_foot</th>\n",
       "      <th>...</th>\n",
       "      <th>vision</th>\n",
       "      <th>penalties</th>\n",
       "      <th>marking</th>\n",
       "      <th>standing_tackle</th>\n",
       "      <th>sliding_tackle</th>\n",
       "      <th>gk_diving</th>\n",
       "      <th>gk_handling</th>\n",
       "      <th>gk_kicking</th>\n",
       "      <th>gk_positioning</th>\n",
       "      <th>gk_reflexes</th>\n",
       "    </tr>\n",
       "  </thead>\n",
       "  <tbody>\n",
       "    <tr>\n",
       "      <th>56661</th>\n",
       "      <td>3464</td>\n",
       "      <td>41841</td>\n",
       "      <td>Francesco Della Rocca</td>\n",
       "      <td>1987-09-14</td>\n",
       "      <td>182.88</td>\n",
       "      <td>161</td>\n",
       "      <td>2007-02-22</td>\n",
       "      <td>33.0</td>\n",
       "      <td>53.0</td>\n",
       "      <td>right</td>\n",
       "      <td>...</td>\n",
       "      <td>49.0</td>\n",
       "      <td>30.0</td>\n",
       "      <td>20.0</td>\n",
       "      <td>23.0</td>\n",
       "      <td>22.0</td>\n",
       "      <td>4.0</td>\n",
       "      <td>20.0</td>\n",
       "      <td>28.0</td>\n",
       "      <td>20.0</td>\n",
       "      <td>20.0</td>\n",
       "    </tr>\n",
       "  </tbody>\n",
       "</table>\n",
       "<p>1 rows × 45 columns</p>\n",
       "</div>"
      ],
      "text/plain": [
       "         id  player_api_id            player_name   birthday  height  weight  \\\n",
       "56661  3464          41841  Francesco Della Rocca 1987-09-14  182.88     161   \n",
       "\n",
       "            date  overall_rating  potential preferred_foot     ...       \\\n",
       "56661 2007-02-22            33.0       53.0          right     ...        \n",
       "\n",
       "      vision penalties  marking  standing_tackle  sliding_tackle  gk_diving  \\\n",
       "56661   49.0      30.0     20.0             23.0            22.0        4.0   \n",
       "\n",
       "       gk_handling  gk_kicking  gk_positioning  gk_reflexes  \n",
       "56661         20.0        28.0            20.0         20.0  \n",
       "\n",
       "[1 rows x 45 columns]"
      ]
     },
     "execution_count": 140,
     "metadata": {},
     "output_type": "execute_result"
    }
   ],
   "source": [
    "df_min.head()"
   ]
  },
  {
   "cell_type": "markdown",
   "metadata": {},
   "source": [
    "Now, we will plot some of the attributes of Francesco Della Rocca"
   ]
  },
  {
   "cell_type": "code",
   "execution_count": 141,
   "metadata": {},
   "outputs": [
    {
     "data": {
      "text/plain": [
       "crossing              28\n",
       "finishing             39\n",
       "heading_accuracy      39\n",
       "short_passing         29\n",
       "volleys               49\n",
       "dribbling             30\n",
       "curve                 57\n",
       "free_kick_accuracy    48\n",
       "long_passing          28\n",
       "ball_control          47\n",
       "acceleration          51\n",
       "sprint_speed          59\n",
       "agility               66\n",
       "reactions             61\n",
       "balance               69\n",
       "shot_power            28\n",
       "jumping               59\n",
       "stamina               28\n",
       "strength              32\n",
       "long_shots            43\n",
       "aggression            29\n",
       "interceptions         28\n",
       "positioning           40\n",
       "vision                49\n",
       "dtype: int64"
      ]
     },
     "execution_count": 141,
     "metadata": {},
     "output_type": "execute_result"
    }
   ],
   "source": [
    "# Getting attributes i want to plot\n",
    "# Also, changing the data type to int\n",
    "df_low =  df_min.loc[:,'crossing':'vision'].max().astype('int')\n",
    "\n",
    "df_low"
   ]
  },
  {
   "cell_type": "code",
   "execution_count": 142,
   "metadata": {},
   "outputs": [
    {
     "data": {
      "image/png": "[encoded data removed]",
      "text/plain": [
       "<matplotlib.figure.Figure at 0x7fdb97df40f0>"
      ]
     },
     "metadata": {},
     "output_type": "display_data"
    }
   ],
   "source": [
    "width = 0.4\n",
    "df_low.plot( width = 0.5, kind= 'bar', alpha = 0.7, figsize = (14,\n",
    "                                        9),color = 'deepskyblue');\n",
    "sns.set_style(\"whitegrid\")\n",
    "\n",
    "# title and labels\n",
    "plt.ylabel('Ratings', fontsize = 18)\n",
    "plt.yticks(fontsize = 16);\n",
    "plt.xlabel('Francesco Della Rocca Attributes', fontsize = 18);\n",
    "plt.title('Lowest Overall Rated player Attributes', fontsize = 20);\n",
    "plt.xticks(fontsize = 16);\n"
   ]
  },
  {
   "cell_type": "markdown",
   "metadata": {},
   "source": [
    "> The resuld shows Francesco Della Rocca attritutes. who was the lowest **Overall Rated Player** in the European soccer league"
   ]
  },
  {
   "cell_type": "markdown",
   "metadata": {},
   "source": [
    "### 3. Which league has the highest home goals from 2010 to 2016?"
   ]
  },
  {
   "cell_type": "code",
   "execution_count": 143,
   "metadata": {},
   "outputs": [
    {
     "data": {
      "text/html": [
       "<div>\n",
       "<style scoped>\n",
       "    .dataframe tbody tr th:only-of-type {\n",
       "        vertical-align: middle;\n",
       "    }\n",
       "\n",
       "    .dataframe tbody tr th {\n",
       "        vertical-align: top;\n",
       "    }\n",
       "\n",
       "    .dataframe thead th {\n",
       "        text-align: right;\n",
       "    }\n",
       "</style>\n",
       "<table border=\"1\" class=\"dataframe\">\n",
       "  <thead>\n",
       "    <tr style=\"text-align: right;\">\n",
       "      <th></th>\n",
       "      <th>id</th>\n",
       "      <th>league_id</th>\n",
       "      <th>stage</th>\n",
       "      <th>date</th>\n",
       "      <th>match_api_id</th>\n",
       "      <th>home_team_api_id</th>\n",
       "      <th>away_team_api_id</th>\n",
       "      <th>home_team_goal</th>\n",
       "      <th>away_team_goal</th>\n",
       "      <th>start_season</th>\n",
       "      <th>end_season</th>\n",
       "      <th>country_name</th>\n",
       "      <th>league_name</th>\n",
       "    </tr>\n",
       "  </thead>\n",
       "  <tbody>\n",
       "    <tr>\n",
       "      <th>19984</th>\n",
       "      <td>19985</td>\n",
       "      <td>19694</td>\n",
       "      <td>19</td>\n",
       "      <td>2010-01-02</td>\n",
       "      <td>658910</td>\n",
       "      <td>9800</td>\n",
       "      <td>8597</td>\n",
       "      <td>1</td>\n",
       "      <td>0</td>\n",
       "      <td>2009</td>\n",
       "      <td>2010</td>\n",
       "      <td>Scotland</td>\n",
       "      <td>Scotland Premier League</td>\n",
       "    </tr>\n",
       "    <tr>\n",
       "      <th>21973</th>\n",
       "      <td>21974</td>\n",
       "      <td>21518</td>\n",
       "      <td>16</td>\n",
       "      <td>2010-01-02</td>\n",
       "      <td>684824</td>\n",
       "      <td>10267</td>\n",
       "      <td>8558</td>\n",
       "      <td>1</td>\n",
       "      <td>0</td>\n",
       "      <td>2009</td>\n",
       "      <td>2010</td>\n",
       "      <td>Spain</td>\n",
       "      <td>Spain LIGA BBVA</td>\n",
       "    </tr>\n",
       "    <tr>\n",
       "      <th>19986</th>\n",
       "      <td>19987</td>\n",
       "      <td>19694</td>\n",
       "      <td>19</td>\n",
       "      <td>2010-01-02</td>\n",
       "      <td>658912</td>\n",
       "      <td>9938</td>\n",
       "      <td>8485</td>\n",
       "      <td>0</td>\n",
       "      <td>1</td>\n",
       "      <td>2009</td>\n",
       "      <td>2010</td>\n",
       "      <td>Scotland</td>\n",
       "      <td>Scotland Premier League</td>\n",
       "    </tr>\n",
       "    <tr>\n",
       "      <th>21971</th>\n",
       "      <td>21972</td>\n",
       "      <td>21518</td>\n",
       "      <td>16</td>\n",
       "      <td>2010-01-02</td>\n",
       "      <td>684821</td>\n",
       "      <td>8634</td>\n",
       "      <td>10205</td>\n",
       "      <td>1</td>\n",
       "      <td>1</td>\n",
       "      <td>2009</td>\n",
       "      <td>2010</td>\n",
       "      <td>Spain</td>\n",
       "      <td>Spain LIGA BBVA</td>\n",
       "    </tr>\n",
       "    <tr>\n",
       "      <th>21969</th>\n",
       "      <td>21970</td>\n",
       "      <td>21518</td>\n",
       "      <td>16</td>\n",
       "      <td>2010-01-02</td>\n",
       "      <td>684817</td>\n",
       "      <td>9906</td>\n",
       "      <td>8302</td>\n",
       "      <td>2</td>\n",
       "      <td>1</td>\n",
       "      <td>2009</td>\n",
       "      <td>2010</td>\n",
       "      <td>Spain</td>\n",
       "      <td>Spain LIGA BBVA</td>\n",
       "    </tr>\n",
       "  </tbody>\n",
       "</table>\n",
       "</div>"
      ],
      "text/plain": [
       "          id  league_id  stage       date  match_api_id  home_team_api_id  \\\n",
       "19984  19985      19694     19 2010-01-02        658910              9800   \n",
       "21973  21974      21518     16 2010-01-02        684824             10267   \n",
       "19986  19987      19694     19 2010-01-02        658912              9938   \n",
       "21971  21972      21518     16 2010-01-02        684821              8634   \n",
       "21969  21970      21518     16 2010-01-02        684817              9906   \n",
       "\n",
       "       away_team_api_id  home_team_goal  away_team_goal  start_season  \\\n",
       "19984              8597               1               0          2009   \n",
       "21973              8558               1               0          2009   \n",
       "19986              8485               0               1          2009   \n",
       "21971             10205               1               1          2009   \n",
       "21969              8302               2               1          2009   \n",
       "\n",
       "       end_season country_name              league_name  \n",
       "19984        2010     Scotland  Scotland Premier League  \n",
       "21973        2010        Spain          Spain LIGA BBVA  \n",
       "19986        2010     Scotland  Scotland Premier League  \n",
       "21971        2010        Spain          Spain LIGA BBVA  \n",
       "21969        2010        Spain          Spain LIGA BBVA  "
      ]
     },
     "execution_count": 143,
     "metadata": {},
     "output_type": "execute_result"
    }
   ],
   "source": [
    "#sorting matxh dataframe by date in ascending order\n",
    "df_match_ed2 = df_match_ed.sort_values('date', ascending= True)\n",
    "\n",
    "#creating new table from 2010 to 2016  \n",
    "df_match_ed2 = df_match_ed2.query('date >= \"2010-01-01\"')\n",
    "\n",
    "df_match_ed2.head()"
   ]
  },
  {
   "cell_type": "code",
   "execution_count": 144,
   "metadata": {},
   "outputs": [
    {
     "data": {
      "text/plain": [
       "league_name\n",
       "Spain LIGA BBVA             4088\n",
       "England Premier League      3841\n",
       "Italy Serie A               3706\n",
       "Netherlands Eredivisie      3569\n",
       "France Ligue 1              3514\n",
       "Germany 1. Bundesliga       3240\n",
       "Portugal Liga ZON Sagres    2442\n",
       "Poland Ekstraklasa          2182\n",
       "Scotland Premier League     2159\n",
       "Belgium Jupiler League      2067\n",
       "Switzerland Super League    1868\n",
       "Name: home_team_goal, dtype: int64"
      ]
     },
     "execution_count": 144,
     "metadata": {},
     "output_type": "execute_result"
    }
   ],
   "source": [
    "# Setting the plot variable\n",
    "home_goal = df_match_ed2.groupby('league_name')['home_team_goal'].sum(\n",
    "                        ).sort_values(ascending=False)\n",
    "\n",
    "home_goal"
   ]
  },
  {
   "cell_type": "code",
   "execution_count": 145,
   "metadata": {},
   "outputs": [
    {
     "data": {
      "image/png": "[encoded data removed]",
      "text/plain": [
       "<matplotlib.figure.Figure at 0x7fdb97df3438>"
      ]
     },
     "metadata": {},
     "output_type": "display_data"
    }
   ],
   "source": [
    "# plot bars\n",
    "home_goal.plot(width = 0.5, kind = 'Barh', alpha = 0.6)\n",
    "\n",
    "#titles and lebels\n",
    "plt.ylabel('League')\n",
    "plt.xlabel('Home Goals Scored')\n",
    "plt.title('Home Goals Scored by League From 2010 - 2016');"
   ]
  },
  {
   "cell_type": "markdown",
   "metadata": {},
   "source": [
    ">The plot depicts that **Spain Leaugue** have scored more goals at Home (`4088 goals`) than any other European League from 2010 to 2016"
   ]
  },
  {
   "cell_type": "markdown",
   "metadata": {},
   "source": [
    "### 4. How are team attributes correlated to one another?"
   ]
  },
  {
   "cell_type": "markdown",
   "metadata": {},
   "source": [
    "Checking the relationship between various team attributes"
   ]
  },
  {
   "cell_type": "code",
   "execution_count": 146,
   "metadata": {},
   "outputs": [
    {
     "data": {
      "text/html": [
       "<div>\n",
       "<style scoped>\n",
       "    .dataframe tbody tr th:only-of-type {\n",
       "        vertical-align: middle;\n",
       "    }\n",
       "\n",
       "    .dataframe tbody tr th {\n",
       "        vertical-align: top;\n",
       "    }\n",
       "\n",
       "    .dataframe thead th {\n",
       "        text-align: right;\n",
       "    }\n",
       "</style>\n",
       "<table border=\"1\" class=\"dataframe\">\n",
       "  <thead>\n",
       "    <tr style=\"text-align: right;\">\n",
       "      <th></th>\n",
       "      <th>team_api_id</th>\n",
       "      <th>team_name</th>\n",
       "      <th>date</th>\n",
       "      <th>buildUpPlaySpeed</th>\n",
       "      <th>buildUpPlaySpeedClass</th>\n",
       "      <th>buildUpPlayDribblingClass</th>\n",
       "      <th>buildUpPlayPassing</th>\n",
       "      <th>buildUpPlayPassingClass</th>\n",
       "      <th>buildUpPlayPositioningClass</th>\n",
       "      <th>chanceCreationPassing</th>\n",
       "      <th>...</th>\n",
       "      <th>chanceCreationShooting</th>\n",
       "      <th>chanceCreationShootingClass</th>\n",
       "      <th>chanceCreationPositioningClass</th>\n",
       "      <th>defencePressure</th>\n",
       "      <th>defencePressureClass</th>\n",
       "      <th>defenceAggression</th>\n",
       "      <th>defenceAggressionClass</th>\n",
       "      <th>defenceTeamWidth</th>\n",
       "      <th>defenceTeamWidthClass</th>\n",
       "      <th>defenceDefenderLineClass</th>\n",
       "    </tr>\n",
       "  </thead>\n",
       "  <tbody>\n",
       "    <tr>\n",
       "      <th>0</th>\n",
       "      <td>9987</td>\n",
       "      <td>KRC Genk</td>\n",
       "      <td>2010-02-22</td>\n",
       "      <td>45</td>\n",
       "      <td>Balanced</td>\n",
       "      <td>Little</td>\n",
       "      <td>45</td>\n",
       "      <td>Mixed</td>\n",
       "      <td>Organised</td>\n",
       "      <td>50</td>\n",
       "      <td>...</td>\n",
       "      <td>60</td>\n",
       "      <td>Normal</td>\n",
       "      <td>Organised</td>\n",
       "      <td>70</td>\n",
       "      <td>High</td>\n",
       "      <td>65</td>\n",
       "      <td>Press</td>\n",
       "      <td>70</td>\n",
       "      <td>Wide</td>\n",
       "      <td>Cover</td>\n",
       "    </tr>\n",
       "    <tr>\n",
       "      <th>1</th>\n",
       "      <td>9987</td>\n",
       "      <td>KRC Genk</td>\n",
       "      <td>2011-02-22</td>\n",
       "      <td>66</td>\n",
       "      <td>Balanced</td>\n",
       "      <td>Little</td>\n",
       "      <td>52</td>\n",
       "      <td>Mixed</td>\n",
       "      <td>Organised</td>\n",
       "      <td>65</td>\n",
       "      <td>...</td>\n",
       "      <td>51</td>\n",
       "      <td>Normal</td>\n",
       "      <td>Organised</td>\n",
       "      <td>48</td>\n",
       "      <td>Medium</td>\n",
       "      <td>47</td>\n",
       "      <td>Press</td>\n",
       "      <td>54</td>\n",
       "      <td>Normal</td>\n",
       "      <td>Offside Trap</td>\n",
       "    </tr>\n",
       "    <tr>\n",
       "      <th>2</th>\n",
       "      <td>9987</td>\n",
       "      <td>KRC Genk</td>\n",
       "      <td>2012-02-22</td>\n",
       "      <td>53</td>\n",
       "      <td>Balanced</td>\n",
       "      <td>Little</td>\n",
       "      <td>55</td>\n",
       "      <td>Mixed</td>\n",
       "      <td>Organised</td>\n",
       "      <td>55</td>\n",
       "      <td>...</td>\n",
       "      <td>56</td>\n",
       "      <td>Normal</td>\n",
       "      <td>Organised</td>\n",
       "      <td>47</td>\n",
       "      <td>Medium</td>\n",
       "      <td>45</td>\n",
       "      <td>Press</td>\n",
       "      <td>55</td>\n",
       "      <td>Normal</td>\n",
       "      <td>Cover</td>\n",
       "    </tr>\n",
       "    <tr>\n",
       "      <th>3</th>\n",
       "      <td>9987</td>\n",
       "      <td>KRC Genk</td>\n",
       "      <td>2013-09-20</td>\n",
       "      <td>58</td>\n",
       "      <td>Balanced</td>\n",
       "      <td>Little</td>\n",
       "      <td>38</td>\n",
       "      <td>Mixed</td>\n",
       "      <td>Organised</td>\n",
       "      <td>67</td>\n",
       "      <td>...</td>\n",
       "      <td>56</td>\n",
       "      <td>Normal</td>\n",
       "      <td>Organised</td>\n",
       "      <td>47</td>\n",
       "      <td>Medium</td>\n",
       "      <td>45</td>\n",
       "      <td>Press</td>\n",
       "      <td>55</td>\n",
       "      <td>Normal</td>\n",
       "      <td>Cover</td>\n",
       "    </tr>\n",
       "    <tr>\n",
       "      <th>4</th>\n",
       "      <td>9987</td>\n",
       "      <td>KRC Genk</td>\n",
       "      <td>2014-09-19</td>\n",
       "      <td>58</td>\n",
       "      <td>Balanced</td>\n",
       "      <td>Normal</td>\n",
       "      <td>38</td>\n",
       "      <td>Mixed</td>\n",
       "      <td>Organised</td>\n",
       "      <td>67</td>\n",
       "      <td>...</td>\n",
       "      <td>56</td>\n",
       "      <td>Normal</td>\n",
       "      <td>Organised</td>\n",
       "      <td>47</td>\n",
       "      <td>Medium</td>\n",
       "      <td>45</td>\n",
       "      <td>Press</td>\n",
       "      <td>55</td>\n",
       "      <td>Normal</td>\n",
       "      <td>Cover</td>\n",
       "    </tr>\n",
       "  </tbody>\n",
       "</table>\n",
       "<p>5 rows × 23 columns</p>\n",
       "</div>"
      ],
      "text/plain": [
       "   team_api_id team_name       date  buildUpPlaySpeed buildUpPlaySpeedClass  \\\n",
       "0         9987  KRC Genk 2010-02-22                45              Balanced   \n",
       "1         9987  KRC Genk 2011-02-22                66              Balanced   \n",
       "2         9987  KRC Genk 2012-02-22                53              Balanced   \n",
       "3         9987  KRC Genk 2013-09-20                58              Balanced   \n",
       "4         9987  KRC Genk 2014-09-19                58              Balanced   \n",
       "\n",
       "  buildUpPlayDribblingClass  buildUpPlayPassing buildUpPlayPassingClass  \\\n",
       "0                    Little                  45                   Mixed   \n",
       "1                    Little                  52                   Mixed   \n",
       "2                    Little                  55                   Mixed   \n",
       "3                    Little                  38                   Mixed   \n",
       "4                    Normal                  38                   Mixed   \n",
       "\n",
       "  buildUpPlayPositioningClass  chanceCreationPassing           ...             \\\n",
       "0                   Organised                     50           ...              \n",
       "1                   Organised                     65           ...              \n",
       "2                   Organised                     55           ...              \n",
       "3                   Organised                     67           ...              \n",
       "4                   Organised                     67           ...              \n",
       "\n",
       "  chanceCreationShooting  chanceCreationShootingClass  \\\n",
       "0                     60                       Normal   \n",
       "1                     51                       Normal   \n",
       "2                     56                       Normal   \n",
       "3                     56                       Normal   \n",
       "4                     56                       Normal   \n",
       "\n",
       "  chanceCreationPositioningClass  defencePressure defencePressureClass  \\\n",
       "0                      Organised               70                 High   \n",
       "1                      Organised               48               Medium   \n",
       "2                      Organised               47               Medium   \n",
       "3                      Organised               47               Medium   \n",
       "4                      Organised               47               Medium   \n",
       "\n",
       "  defenceAggression  defenceAggressionClass defenceTeamWidth  \\\n",
       "0                65                   Press               70   \n",
       "1                47                   Press               54   \n",
       "2                45                   Press               55   \n",
       "3                45                   Press               55   \n",
       "4                45                   Press               55   \n",
       "\n",
       "   defenceTeamWidthClass defenceDefenderLineClass  \n",
       "0                   Wide                    Cover  \n",
       "1                 Normal             Offside Trap  \n",
       "2                 Normal                    Cover  \n",
       "3                 Normal                    Cover  \n",
       "4                 Normal                    Cover  \n",
       "\n",
       "[5 rows x 23 columns]"
      ]
     },
     "execution_count": 146,
     "metadata": {},
     "output_type": "execute_result"
    }
   ],
   "source": [
    "df_team_ed.head()"
   ]
  },
  {
   "cell_type": "code",
   "execution_count": 147,
   "metadata": {},
   "outputs": [
    {
     "data": {
      "text/html": [
       "<div>\n",
       "<style scoped>\n",
       "    .dataframe tbody tr th:only-of-type {\n",
       "        vertical-align: middle;\n",
       "    }\n",
       "\n",
       "    .dataframe tbody tr th {\n",
       "        vertical-align: top;\n",
       "    }\n",
       "\n",
       "    .dataframe thead th {\n",
       "        text-align: right;\n",
       "    }\n",
       "</style>\n",
       "<table border=\"1\" class=\"dataframe\">\n",
       "  <thead>\n",
       "    <tr style=\"text-align: right;\">\n",
       "      <th></th>\n",
       "      <th>buildUpPlaySpeed</th>\n",
       "      <th>buildUpPlayPassing</th>\n",
       "      <th>chanceCreationPassing</th>\n",
       "      <th>chanceCreationCrossing</th>\n",
       "      <th>chanceCreationShooting</th>\n",
       "      <th>defencePressure</th>\n",
       "      <th>defenceAggression</th>\n",
       "      <th>defenceTeamWidth</th>\n",
       "    </tr>\n",
       "  </thead>\n",
       "  <tbody>\n",
       "    <tr>\n",
       "      <th>buildUpPlaySpeed</th>\n",
       "      <td>1.000000</td>\n",
       "      <td>0.395506</td>\n",
       "      <td>0.319162</td>\n",
       "      <td>0.191687</td>\n",
       "      <td>0.072098</td>\n",
       "      <td>0.046397</td>\n",
       "      <td>0.160569</td>\n",
       "      <td>0.067019</td>\n",
       "    </tr>\n",
       "    <tr>\n",
       "      <th>buildUpPlayPassing</th>\n",
       "      <td>0.395506</td>\n",
       "      <td>1.000000</td>\n",
       "      <td>0.220367</td>\n",
       "      <td>0.231088</td>\n",
       "      <td>-0.077325</td>\n",
       "      <td>-0.050487</td>\n",
       "      <td>0.122451</td>\n",
       "      <td>0.063150</td>\n",
       "    </tr>\n",
       "    <tr>\n",
       "      <th>chanceCreationPassing</th>\n",
       "      <td>0.319162</td>\n",
       "      <td>0.220367</td>\n",
       "      <td>1.000000</td>\n",
       "      <td>0.246528</td>\n",
       "      <td>0.112497</td>\n",
       "      <td>0.203158</td>\n",
       "      <td>0.145212</td>\n",
       "      <td>0.150143</td>\n",
       "    </tr>\n",
       "    <tr>\n",
       "      <th>chanceCreationCrossing</th>\n",
       "      <td>0.191687</td>\n",
       "      <td>0.231088</td>\n",
       "      <td>0.246528</td>\n",
       "      <td>1.000000</td>\n",
       "      <td>-0.012576</td>\n",
       "      <td>0.087108</td>\n",
       "      <td>0.098874</td>\n",
       "      <td>0.131515</td>\n",
       "    </tr>\n",
       "    <tr>\n",
       "      <th>chanceCreationShooting</th>\n",
       "      <td>0.072098</td>\n",
       "      <td>-0.077325</td>\n",
       "      <td>0.112497</td>\n",
       "      <td>-0.012576</td>\n",
       "      <td>1.000000</td>\n",
       "      <td>0.185603</td>\n",
       "      <td>0.116578</td>\n",
       "      <td>0.129166</td>\n",
       "    </tr>\n",
       "  </tbody>\n",
       "</table>\n",
       "</div>"
      ],
      "text/plain": [
       "                        buildUpPlaySpeed  buildUpPlayPassing  \\\n",
       "buildUpPlaySpeed                1.000000            0.395506   \n",
       "buildUpPlayPassing              0.395506            1.000000   \n",
       "chanceCreationPassing           0.319162            0.220367   \n",
       "chanceCreationCrossing          0.191687            0.231088   \n",
       "chanceCreationShooting          0.072098           -0.077325   \n",
       "\n",
       "                        chanceCreationPassing  chanceCreationCrossing  \\\n",
       "buildUpPlaySpeed                     0.319162                0.191687   \n",
       "buildUpPlayPassing                   0.220367                0.231088   \n",
       "chanceCreationPassing                1.000000                0.246528   \n",
       "chanceCreationCrossing               0.246528                1.000000   \n",
       "chanceCreationShooting               0.112497               -0.012576   \n",
       "\n",
       "                        chanceCreationShooting  defencePressure  \\\n",
       "buildUpPlaySpeed                      0.072098         0.046397   \n",
       "buildUpPlayPassing                   -0.077325        -0.050487   \n",
       "chanceCreationPassing                 0.112497         0.203158   \n",
       "chanceCreationCrossing               -0.012576         0.087108   \n",
       "chanceCreationShooting                1.000000         0.185603   \n",
       "\n",
       "                        defenceAggression  defenceTeamWidth  \n",
       "buildUpPlaySpeed                 0.160569          0.067019  \n",
       "buildUpPlayPassing               0.122451          0.063150  \n",
       "chanceCreationPassing            0.145212          0.150143  \n",
       "chanceCreationCrossing           0.098874          0.131515  \n",
       "chanceCreationShooting           0.116578          0.129166  "
      ]
     },
     "execution_count": 147,
     "metadata": {},
     "output_type": "execute_result"
    }
   ],
   "source": [
    "# Relationship analysis\n",
    "\n",
    "relation_1 = df_team_ed.iloc[:,3:24]\n",
    "relation = relation_1.corr()\n",
    "relation.head()"
   ]
  },
  {
   "cell_type": "code",
   "execution_count": 148,
   "metadata": {},
   "outputs": [
    {
     "data": {
      "image/png": "[encoded data removed]",
      "text/plain": [
       "<matplotlib.figure.Figure at 0x7fdb7d6f61d0>"
      ]
     },
     "metadata": {},
     "output_type": "display_data"
    }
   ],
   "source": [
    "#plotting relationship analysis with heatmap\n",
    "plt.figure(figsize= (8,8));\n",
    "\n",
    "\n",
    "bes = sns.heatmap(relation, xticklabels = relation.columns, yticklabels \n",
    "    = relation.columns, annot= True, cmap= 'BuPu');\n",
    "\n",
    "bes.set_yticklabels(bes.get_ymajorticklabels(), fontsize = 11);\n",
    "bes.set_xticklabels(bes.get_xmajorticklabels(), fontsize = 11);\n",
    "\n",
    "plt.title('Team Attributes Relationship', fontsize = 14);"
   ]
  },
  {
   "cell_type": "markdown",
   "metadata": {},
   "source": [
    "> The Heatmap above dipicts the relationships between vatious team attributes. It shouws that team deense width corrolates better with defense pressure. \n",
    "\n",
    ">It also show that majority of team attributes correlates positively with one another. "
   ]
  },
  {
   "cell_type": "markdown",
   "metadata": {},
   "source": [
    "### 5. Which player foot has the highest average freekick accuracy and shot power?"
   ]
  },
  {
   "cell_type": "markdown",
   "metadata": {},
   "source": [
    "Getting the mean of Freekick Accuracy and Shot Power by preferred foot.\n",
    "\n"
   ]
  },
  {
   "cell_type": "code",
   "execution_count": 149,
   "metadata": {},
   "outputs": [
    {
     "data": {
      "text/html": [
       "<div>\n",
       "<style scoped>\n",
       "    .dataframe tbody tr th:only-of-type {\n",
       "        vertical-align: middle;\n",
       "    }\n",
       "\n",
       "    .dataframe tbody tr th {\n",
       "        vertical-align: top;\n",
       "    }\n",
       "\n",
       "    .dataframe thead th {\n",
       "        text-align: right;\n",
       "    }\n",
       "</style>\n",
       "<table border=\"1\" class=\"dataframe\">\n",
       "  <thead>\n",
       "    <tr style=\"text-align: right;\">\n",
       "      <th></th>\n",
       "      <th>free_kick_accuracy</th>\n",
       "      <th>shot_power</th>\n",
       "    </tr>\n",
       "    <tr>\n",
       "      <th>preferred_foot</th>\n",
       "      <th></th>\n",
       "      <th></th>\n",
       "    </tr>\n",
       "  </thead>\n",
       "  <tbody>\n",
       "    <tr>\n",
       "      <th>left</th>\n",
       "      <td>53.291360</td>\n",
       "      <td>63.491101</td>\n",
       "    </tr>\n",
       "    <tr>\n",
       "      <th>right</th>\n",
       "      <td>48.130705</td>\n",
       "      <td>61.340781</td>\n",
       "    </tr>\n",
       "  </tbody>\n",
       "</table>\n",
       "</div>"
      ],
      "text/plain": [
       "                free_kick_accuracy  shot_power\n",
       "preferred_foot                                \n",
       "left                     53.291360   63.491101\n",
       "right                    48.130705   61.340781"
      ]
     },
     "execution_count": 149,
     "metadata": {},
     "output_type": "execute_result"
    }
   ],
   "source": [
    "# Getting the mean\n",
    "\n",
    "fk_sp = df_player_ed.groupby('preferred_foot')['free_kick_accuracy', 'shot_power'].mean()\n",
    "\n",
    "fk_sp"
   ]
  },
  {
   "cell_type": "code",
   "execution_count": 150,
   "metadata": {},
   "outputs": [
    {
     "data": {
      "image/png": "[encoded data removed]",
      "text/plain": [
       "<matplotlib.figure.Figure at 0x7fdb97cf80b8>"
      ]
     },
     "metadata": {},
     "output_type": "display_data"
    }
   ],
   "source": [
    "# Plotting the results\n",
    "fk_sp.plot.barh(width = 0.5, alpha = 0.6)\n",
    "\n",
    "#titles and lebels\n",
    "plt.ylabel('Preferred Foot', fontsize = 12)\n",
    "plt.xlabel('Average Rating', fontsize = 12)\n",
    "plt.title('Average Freekick Acc and Shot Power By Preferred Foot', fontsize = 12);\n"
   ]
  },
  {
   "cell_type": "markdown",
   "metadata": {},
   "source": [
    ">These Chart shows that players with **Left Foot** have better Free Kick Accuracy and Shot Power compared to the **Right Foot** "
   ]
  },
  {
   "cell_type": "markdown",
   "metadata": {},
   "source": [
    "<a id='limitations'></a>\n",
    "## Limitations\n"
   ]
  },
  {
   "cell_type": "markdown",
   "metadata": {},
   "source": [
    "1. Duplicate Rows: some row seams to be duplicates but have different id and date. apart from that all values were the same."
   ]
  },
  {
   "cell_type": "markdown",
   "metadata": {},
   "source": [
    "2. Data types: majority of the datatypes for numerical values that are whole numbers were floats had to change the data types\n"
   ]
  },
  {
   "cell_type": "markdown",
   "metadata": {},
   "source": [
    "3. Missing Values: There were alot of missing values. i had to drom some columns and rows which would have made my analysis better"
   ]
  },
  {
   "cell_type": "markdown",
   "metadata": {},
   "source": [
    "4. Dropped Columns: insignificant columns that were not needed for this analysis were dropped"
   ]
  },
  {
   "cell_type": "markdown",
   "metadata": {},
   "source": [
    "<a id='conclusions'></a>\n",
    "## Conclusions\n",
    ">1. Cristiano Ronaldo and Lionel Messi and the top 2 best player at the end of 2012.\n",
    "2. The lowest rated player in the European league was Francesco Della Rocca with overall rating of 33\n",
    "3. From 2010 to 2016, the Spain LIGA BBVA scored 4088 home goals. Which is the highest home goals scored compared to other European leagues\n",
    "4. Majority of the team attributes dipicts positive correlation with one another.\n",
    "5. Left fotted players have better shot power and free kick accuracy than rightfooted players.\n"
   ]
  }
 ],
 "metadata": {
  "kernelspec": {
   "display_name": "Python 3",
   "language": "python",
   "name": "python3"
  },
  "language_info": {
   "codemirror_mode": {
    "name": "ipython",
    "version": 3
   },
   "file_extension": ".py",
   "mimetype": "text/x-python",
   "name": "python",
   "nbconvert_exporter": "python",
   "pygments_lexer": "ipython3",
   "version": "3.8.8"
  }
 },
 "nbformat": 4,
 "nbformat_minor": 2
}
